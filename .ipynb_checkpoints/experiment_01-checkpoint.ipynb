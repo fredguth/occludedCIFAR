{
 "cells": [
  {
   "cell_type": "code",
   "execution_count": 1,
   "metadata": {},
   "outputs": [
    {
     "data": {
      "text/plain": [
       "True"
      ]
     },
     "execution_count": 1,
     "metadata": {},
     "output_type": "execute_result"
    }
   ],
   "source": [
    "from fastai.vision.all import *\n",
    "from datetime import datetime\n",
    "import torch\n",
    "torch.cuda.is_available()"
   ]
  },
  {
   "cell_type": "code",
   "execution_count": 2,
   "metadata": {},
   "outputs": [],
   "source": [
    "path = Path('/home/fredguth/.fastai/data/cifar10_mnist')"
   ]
  },
  {
   "cell_type": "code",
   "execution_count": 3,
   "metadata": {},
   "outputs": [],
   "source": [
    "def label_func(f):\n",
    "    return (str(f).split(\"_y\")[1:][0][0])\n",
    "\n",
    "def noise_func(f):\n",
    "    return (str(f).split(\"_n\")[1:][0][0])"
   ]
  },
  {
   "cell_type": "code",
   "execution_count": 4,
   "metadata": {},
   "outputs": [],
   "source": [
    "def get_dls(task=\"CIFAR\"):\n",
    "    dblock = DataBlock(blocks    = (ImageBlock, CategoryBlock),\n",
    "                   splitter  = IndexSplitter(list(range(10000))),\n",
    "                   get_items = get_image_files,\n",
    "                   get_y = label_func if (task == 'CIFAR') else noise_func,\n",
    "                   batch_tfms= [Normalize],\n",
    "                   n_inp     = 1 )\n",
    "    return dblock.dataloaders(path, num_workers=4)"
   ]
  },
  {
   "cell_type": "code",
   "execution_count": 5,
   "metadata": {},
   "outputs": [],
   "source": [
    "class HeadBodyNetwork(Module):\n",
    "    def __init__(self, head, body):\n",
    "        self.head = head\n",
    "        self. body = body\n",
    "    def forward(self, x):\n",
    "        return self.head(self.body(x))"
   ]
  },
  {
   "cell_type": "code",
   "execution_count": 6,
   "metadata": {},
   "outputs": [],
   "source": [
    "def headbody_splitter(m): return L(m.head, m.body).map(params)"
   ]
  },
  {
   "cell_type": "code",
   "execution_count": 7,
   "metadata": {},
   "outputs": [],
   "source": [
    "class RunMNIST(Callback):\n",
    "    def after_epoch(self):  \n",
    "        epoch = self.epoch\n",
    "        backbone = copy(self.learn.model[0])\n",
    "        head =  create_head(512,10)\n",
    "        net = HeadBodyNetwork(head=head, body=backbone)\n",
    "        l =Learner(\n",
    "                           dls=get_dls(task=\"MNIST\"), \n",
    "                           model=net,\n",
    "                           splitter=headbody_splitter,\n",
    "                           loss_func=F.cross_entropy, \n",
    "                           metrics=accuracy, \n",
    "                           cbs=[CSVLogger(fname=f\"results/mnist_after_cifar_e{epoch}.csv\")])\n",
    "        l.freeze()\n",
    "        l.fit(3,0.002)"
   ]
  },
  {
   "cell_type": "code",
   "execution_count": 8,
   "metadata": {},
   "outputs": [],
   "source": [
    "cifar_learner= cnn_learner(dls=get_dls(task=\"CIFAR\"), \n",
    "                           arch=resnet18, \n",
    "                           pretrained=False, \n",
    "                           loss_func=F.cross_entropy, \n",
    "                           metrics=accuracy, \n",
    "                           cbs=[CSVLogger(fname=f\"results/cifar.csv\"), RunMNIST]\n",
    "                          )"
   ]
  },
  {
   "cell_type": "code",
   "execution_count": 9,
   "metadata": {},
   "outputs": [
    {
     "data": {
      "text/html": [
       "<table border=\"1\" class=\"dataframe\">\n",
       "  <thead>\n",
       "    <tr style=\"text-align: left;\">\n",
       "      <th>epoch</th>\n",
       "      <th>train_loss</th>\n",
       "      <th>valid_loss</th>\n",
       "      <th>accuracy</th>\n",
       "      <th>time</th>\n",
       "    </tr>\n",
       "  </thead>\n",
       "  <tbody>\n",
       "    <tr>\n",
       "      <td>0</td>\n",
       "      <td>1.682337</td>\n",
       "      <td>1.629668</td>\n",
       "      <td>0.410900</td>\n",
       "      <td>01:25</td>\n",
       "    </tr>\n",
       "    <tr>\n",
       "      <td>1</td>\n",
       "      <td>1.613983</td>\n",
       "      <td>1.591416</td>\n",
       "      <td>0.420900</td>\n",
       "      <td>01:41</td>\n",
       "    </tr>\n",
       "  </tbody>\n",
       "</table>"
      ],
      "text/plain": [
       "<IPython.core.display.HTML object>"
      ]
     },
     "metadata": {},
     "output_type": "display_data"
    },
    {
     "data": {
      "text/html": [
       "<table border=\"1\" class=\"dataframe\">\n",
       "  <thead>\n",
       "    <tr style=\"text-align: left;\">\n",
       "      <th>epoch</th>\n",
       "      <th>train_loss</th>\n",
       "      <th>valid_loss</th>\n",
       "      <th>accuracy</th>\n",
       "      <th>time</th>\n",
       "    </tr>\n",
       "  </thead>\n",
       "  <tbody>\n",
       "    <tr>\n",
       "      <td>0</td>\n",
       "      <td>0.260155</td>\n",
       "      <td>0.201933</td>\n",
       "      <td>0.938400</td>\n",
       "      <td>00:20</td>\n",
       "    </tr>\n",
       "    <tr>\n",
       "      <td>1</td>\n",
       "      <td>0.164954</td>\n",
       "      <td>0.216364</td>\n",
       "      <td>0.936100</td>\n",
       "      <td>00:20</td>\n",
       "    </tr>\n",
       "    <tr>\n",
       "      <td>2</td>\n",
       "      <td>0.139546</td>\n",
       "      <td>0.111665</td>\n",
       "      <td>0.965500</td>\n",
       "      <td>00:21</td>\n",
       "    </tr>\n",
       "  </tbody>\n",
       "</table>"
      ],
      "text/plain": [
       "<IPython.core.display.HTML object>"
      ]
     },
     "metadata": {},
     "output_type": "display_data"
    },
    {
     "data": {
      "text/html": [
       "<table border=\"1\" class=\"dataframe\">\n",
       "  <thead>\n",
       "    <tr style=\"text-align: left;\">\n",
       "      <th>epoch</th>\n",
       "      <th>train_loss</th>\n",
       "      <th>valid_loss</th>\n",
       "      <th>accuracy</th>\n",
       "      <th>time</th>\n",
       "    </tr>\n",
       "  </thead>\n",
       "  <tbody>\n",
       "    <tr>\n",
       "      <td>0</td>\n",
       "      <td>0.136479</td>\n",
       "      <td>0.154444</td>\n",
       "      <td>0.955000</td>\n",
       "      <td>00:24</td>\n",
       "    </tr>\n",
       "    <tr>\n",
       "      <td>1</td>\n",
       "      <td>0.102713</td>\n",
       "      <td>0.101688</td>\n",
       "      <td>0.969400</td>\n",
       "      <td>00:26</td>\n",
       "    </tr>\n",
       "    <tr>\n",
       "      <td>2</td>\n",
       "      <td>0.072202</td>\n",
       "      <td>0.115280</td>\n",
       "      <td>0.970100</td>\n",
       "      <td>00:26</td>\n",
       "    </tr>\n",
       "  </tbody>\n",
       "</table>"
      ],
      "text/plain": [
       "<IPython.core.display.HTML object>"
      ]
     },
     "metadata": {},
     "output_type": "display_data"
    }
   ],
   "source": [
    "cifar_learner.fit(2, 0.002)"
   ]
  },
  {
   "cell_type": "code",
   "execution_count": null,
   "metadata": {},
   "outputs": [],
   "source": []
  },
  {
   "cell_type": "code",
   "execution_count": null,
   "metadata": {},
   "outputs": [],
   "source": []
  },
  {
   "cell_type": "code",
   "execution_count": null,
   "metadata": {},
   "outputs": [],
   "source": []
  }
 ],
 "metadata": {
  "jupytext": {
   "split_at_heading": true
  },
  "kernelspec": {
   "display_name": "Python 3",
   "language": "python",
   "name": "python3"
  },
  "language_info": {
   "codemirror_mode": {
    "name": "ipython",
    "version": 3
   },
   "file_extension": ".py",
   "mimetype": "text/x-python",
   "name": "python",
   "nbconvert_exporter": "python",
   "pygments_lexer": "ipython3",
   "version": "3.9.0"
  }
 },
 "nbformat": 4,
 "nbformat_minor": 2
}
