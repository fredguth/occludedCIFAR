{
 "cells": [
  {
   "cell_type": "code",
   "execution_count": 1,
   "metadata": {},
   "outputs": [
    {
     "data": {
      "text/plain": [
       "True"
      ]
     },
     "execution_count": 1,
     "metadata": {},
     "output_type": "execute_result"
    }
   ],
   "source": [
    "from fastai.vision.all import *\n",
    "from datetime import datetime\n",
    "import torch\n",
    "torch.cuda.is_available()"
   ]
  },
  {
   "cell_type": "code",
   "execution_count": 2,
   "metadata": {},
   "outputs": [],
   "source": [
    "path = Path('/home/fredguth/.fastai/data/cifar10_mnist')"
   ]
  },
  {
   "cell_type": "code",
   "execution_count": 3,
   "metadata": {},
   "outputs": [],
   "source": [
    "def label_func(f):\n",
    "    return (str(f).split(\"_y\")[1:][0][0])\n",
    "\n",
    "def noise_func(f):\n",
    "    return (str(f).split(\"_n\")[1:][0][0])"
   ]
  },
  {
   "cell_type": "code",
   "execution_count": 4,
   "metadata": {},
   "outputs": [],
   "source": [
    "def get_dls(task=\"CIFAR\"):\n",
    "    dblock = DataBlock(blocks    = (ImageBlock, CategoryBlock),\n",
    "                   splitter  = IndexSplitter(list(range(10000))),\n",
    "                   get_items = get_image_files,\n",
    "                   get_y = label_func if (task == 'CIFAR') else noise_func,\n",
    "                   batch_tfms= [Normalize],\n",
    "                   n_inp     = 1 )\n",
    "    return dblock.dataloaders(path, num_workers=4)"
   ]
  },
  {
   "cell_type": "code",
   "execution_count": 5,
   "metadata": {},
   "outputs": [],
   "source": [
    "class SimpleProgress(Callback):\n",
    "    def after_batch(self):\n",
    "        print ('\\033[92m'+u\"\\u258F\", end=\"\")"
   ]
  },
  {
   "cell_type": "code",
   "execution_count": 14,
   "metadata": {},
   "outputs": [],
   "source": [
    "class RunMNIST(Callback):\n",
    "    def after_batch(self):\n",
    "        print ('\\033[94m'+ u\"\\u258F\", end=\"\")\n",
    "    def after_epoch(self):  \n",
    "        epoch = self.epoch\n",
    "        model = self.learn.model.detach().clone()\n",
    "        model[1] = create_head(512,10)\n",
    "        l =cnn_learner(\n",
    "                           dls=get_dls(task=\"MNIST\"), \n",
    "                           arch=modell \n",
    "                           pretrained=True, \n",
    "                           loss_func=F.cross_entropy, \n",
    "                           metrics=accuracy, \n",
    "                           cbs=[CSVLogger(fname=f\"mnist_after_cifar_e{epoch}.csv\")]\n",
    "                          )\n",
    "        l.dls = get_dls(task=\"MNIST\")\n",
    "        l.remove_cbs([CSVLogger, RunMNIST])\n",
    "        l.add_cb(CSVLogger(fname=f\"mnist_after_cifar_e{epoch}.csv\"))\n",
    "        l.add_cb(SimpleProgress)\n",
    "        with l.no_bar(): l.fine_tune(epochs = 3, base_lr=0.002)"
   ]
  },
  {
   "cell_type": "code",
   "execution_count": 7,
   "metadata": {},
   "outputs": [],
   "source": [
    "cifar_learner= cnn_learner(dls=get_dls(task=\"CIFAR\"), \n",
    "                           arch=resnet18, \n",
    "                           pretrained=False, \n",
    "                           loss_func=F.cross_entropy, \n",
    "                           metrics=accuracy, \n",
    "                           cbs=[CSVLogger(fname=f\"cifar.csv\"), RunMNIST]\n",
    "                          )"
   ]
  },
  {
   "cell_type": "code",
   "execution_count": 12,
   "metadata": {},
   "outputs": [],
   "source": [
    "b = create_head(512,10)"
   ]
  },
  {
   "cell_type": "code",
   "execution_count": 13,
   "metadata": {},
   "outputs": [
    {
     "data": {
      "text/plain": [
       "Sequential(\n",
       "  (0): AdaptiveConcatPool2d(\n",
       "    (ap): AdaptiveAvgPool2d(output_size=1)\n",
       "    (mp): AdaptiveMaxPool2d(output_size=1)\n",
       "  )\n",
       "  (1): Flatten(full=False)\n",
       "  (2): BatchNorm1d(1024, eps=1e-05, momentum=0.1, affine=True, track_running_stats=True)\n",
       "  (3): Dropout(p=0.25, inplace=False)\n",
       "  (4): Linear(in_features=1024, out_features=512, bias=False)\n",
       "  (5): ReLU(inplace=True)\n",
       "  (6): BatchNorm1d(512, eps=1e-05, momentum=0.1, affine=True, track_running_stats=True)\n",
       "  (7): Dropout(p=0.5, inplace=False)\n",
       "  (8): Linear(in_features=512, out_features=10, bias=False)\n",
       ")"
      ]
     },
     "execution_count": 13,
     "metadata": {},
     "output_type": "execute_result"
    }
   ],
   "source": [
    "b"
   ]
  },
  {
   "cell_type": "code",
   "execution_count": 11,
   "metadata": {},
   "outputs": [
    {
     "data": {
      "text/plain": [
       "Sequential(\n",
       "  (0): AdaptiveConcatPool2d(\n",
       "    (ap): AdaptiveAvgPool2d(output_size=1)\n",
       "    (mp): AdaptiveMaxPool2d(output_size=1)\n",
       "  )\n",
       "  (1): Flatten(full=False)\n",
       "  (2): BatchNorm1d(1024, eps=1e-05, momentum=0.1, affine=True, track_running_stats=True)\n",
       "  (3): Dropout(p=0.25, inplace=False)\n",
       "  (4): Linear(in_features=1024, out_features=512, bias=False)\n",
       "  (5): ReLU(inplace=True)\n",
       "  (6): BatchNorm1d(512, eps=1e-05, momentum=0.1, affine=True, track_running_stats=True)\n",
       "  (7): Dropout(p=0.5, inplace=False)\n",
       "  (8): Linear(in_features=512, out_features=10, bias=False)\n",
       ")"
      ]
     },
     "execution_count": 11,
     "metadata": {},
     "output_type": "execute_result"
    }
   ],
   "source": [
    "cifar_learner.model[1]"
   ]
  },
  {
   "cell_type": "code",
   "execution_count": 8,
   "metadata": {},
   "outputs": [
    {
     "name": "stdout",
     "output_type": "stream",
     "text": [
      "\u001b[94m▏\u001b[94m▏\u001b[94m▏\u001b[94m▏\u001b[94m▏\u001b[94m▏\u001b[94m▏\u001b[94m▏\u001b[94m▏\u001b[94m▏\u001b[94m▏\u001b[94m▏\u001b[94m▏\u001b[94m▏\u001b[94m▏\u001b[94m▏\u001b[94m▏\u001b[94m▏\u001b[94m▏\u001b[94m▏\u001b[94m▏\u001b[94m▏\u001b[94m▏\u001b[94m▏\u001b[94m▏\u001b[94m▏\u001b[94m▏\u001b[94m▏\u001b[94m▏\u001b[94m▏\u001b[94m▏\u001b[94m▏\u001b[94m▏\u001b[94m▏\u001b[94m▏\u001b[94m▏\u001b[94m▏\u001b[94m▏\u001b[94m▏\u001b[94m▏\u001b[94m▏\u001b[94m▏\u001b[94m▏\u001b[94m▏\u001b[94m▏\u001b[94m▏\u001b[94m▏\u001b[94m▏\u001b[94m▏\u001b[94m▏\u001b[94m▏\u001b[94m▏\u001b[94m▏\u001b[94m▏\u001b[94m▏\u001b[94m▏\u001b[94m▏\u001b[94m▏\u001b[94m▏\u001b[94m▏\u001b[94m▏\u001b[94m▏\u001b[94m▏\u001b[94m▏\u001b[94m▏\u001b[94m▏\u001b[94m▏\u001b[94m▏\u001b[94m▏\u001b[94m▏\u001b[94m▏\u001b[94m▏\u001b[94m▏\u001b[94m▏\u001b[94m▏\u001b[94m▏\u001b[94m▏\u001b[94m▏\u001b[94m▏\u001b[94m▏\u001b[94m▏\u001b[94m▏\u001b[94m▏\u001b[94m▏\u001b[94m▏\u001b[94m▏\u001b[94m▏\u001b[94m▏\u001b[94m▏\u001b[94m▏\u001b[94m▏\u001b[94m▏\u001b[94m▏\u001b[94m▏\u001b[94m▏\u001b[94m▏\u001b[94m▏\u001b[94m▏\u001b[94m▏\u001b[94m▏\u001b[94m▏\u001b[94m▏\u001b[94m▏\u001b[94m▏\u001b[94m▏\u001b[94m▏\u001b[94m▏\u001b[94m▏\u001b[94m▏\u001b[94m▏\u001b[94m▏\u001b[94m▏\u001b[94m▏\u001b[94m▏\u001b[94m▏\u001b[94m▏\u001b[94m▏\u001b[94m▏\u001b[94m▏\u001b[94m▏\u001b[94m▏\u001b[94m▏\u001b[94m▏\u001b[94m▏\u001b[94m▏\u001b[94m▏\u001b[94m▏\u001b[94m▏\u001b[94m▏\u001b[94m▏\u001b[94m▏\u001b[94m▏\u001b[94m▏\u001b[94m▏\u001b[94m▏\u001b[94m▏\u001b[94m▏\u001b[94m▏\u001b[94m▏\u001b[94m▏\u001b[94m▏\u001b[94m▏\u001b[94m▏\u001b[94m▏\u001b[94m▏\u001b[94m▏\u001b[94m▏\u001b[94m▏\u001b[94m▏\u001b[94m▏\u001b[94m▏\u001b[94m▏\u001b[94m▏\u001b[94m▏\u001b[94m▏\u001b[94m▏\u001b[94m▏\u001b[94m▏\u001b[94m▏\u001b[94m▏\u001b[94m▏\u001b[94m▏\u001b[94m▏\u001b[94m▏\u001b[94m▏\u001b[94m▏\u001b[94m▏\u001b[94m▏\u001b[94m▏\u001b[94m▏\u001b[94m▏\u001b[94m▏\u001b[94m▏\u001b[94m▏\u001b[94m▏\u001b[94m▏\u001b[94m▏\u001b[94m▏\u001b[94m▏\u001b[94m▏\u001b[94m▏\u001b[94m▏\u001b[94m▏\u001b[94m▏\u001b[94m▏\u001b[94m▏\u001b[94m▏\u001b[94m▏\u001b[94m▏\u001b[94m▏\u001b[94m▏\u001b[94m▏\u001b[94m▏\u001b[94m▏\u001b[94m▏\u001b[94m▏\u001b[94m▏\u001b[94m▏\u001b[94m▏\u001b[94m▏\u001b[94m▏\u001b[94m▏\u001b[94m▏\u001b[94m▏\u001b[94m▏\u001b[94m▏\u001b[94m▏\u001b[94m▏\u001b[94m▏\u001b[94m▏\u001b[94m▏\u001b[94m▏\u001b[94m▏\u001b[94m▏\u001b[94m▏\u001b[94m▏\u001b[94m▏\u001b[94m▏\u001b[94m▏\u001b[94m▏\u001b[94m▏\u001b[94m▏\u001b[94m▏\u001b[94m▏\u001b[94m▏\u001b[94m▏\u001b[94m▏\u001b[94m▏\u001b[94m▏\u001b[94m▏\u001b[94m▏\u001b[94m▏\u001b[94m▏\u001b[94m▏\u001b[94m▏\u001b[94m▏\u001b[94m▏\u001b[94m▏\u001b[94m▏\u001b[94m▏\u001b[94m▏\u001b[94m▏\u001b[94m▏\u001b[94m▏\u001b[94m▏\u001b[94m▏\u001b[94m▏\u001b[94m▏\u001b[94m▏\u001b[94m▏\u001b[94m▏\u001b[94m▏\u001b[94m▏\u001b[94m▏\u001b[94m▏\u001b[94m▏\u001b[94m▏\u001b[94m▏\u001b[94m▏\u001b[94m▏\u001b[94m▏\u001b[94m▏\u001b[94m▏\u001b[94m▏\u001b[94m▏\u001b[94m▏\u001b[94m▏\u001b[94m▏\u001b[94m▏\u001b[94m▏\u001b[94m▏\u001b[94m▏\u001b[94m▏\u001b[94m▏\u001b[94m▏\u001b[94m▏\u001b[94m▏\u001b[94m▏\u001b[94m▏\u001b[94m▏\u001b[94m▏\u001b[94m▏\u001b[94m▏\u001b[94m▏\u001b[94m▏\u001b[94m▏\u001b[94m▏\u001b[94m▏\u001b[94m▏\u001b[94m▏\u001b[94m▏\u001b[94m▏\u001b[94m▏\u001b[94m▏\u001b[94m▏\u001b[94m▏\u001b[94m▏\u001b[94m▏\u001b[94m▏\u001b[94m▏\u001b[94m▏\u001b[94m▏\u001b[94m▏\u001b[94m▏\u001b[94m▏\u001b[94m▏\u001b[94m▏\u001b[94m▏\u001b[94m▏\u001b[94m▏\u001b[94m▏\u001b[94m▏\u001b[94m▏\u001b[94m▏\u001b[94m▏\u001b[94m▏\u001b[94m▏\u001b[94m▏\u001b[94m▏\u001b[94m▏\u001b[94m▏\u001b[94m▏\u001b[94m▏\u001b[94m▏\u001b[94m▏\u001b[94m▏\u001b[94m▏\u001b[94m▏\u001b[94m▏\u001b[94m▏\u001b[94m▏\u001b[94m▏\u001b[94m▏\u001b[94m▏\u001b[94m▏\u001b[94m▏\u001b[94m▏\u001b[94m▏\u001b[94m▏\u001b[94m▏\u001b[94m▏\u001b[94m▏\u001b[94m▏\u001b[94m▏\u001b[94m▏\u001b[94m▏\u001b[94m▏\u001b[94m▏\u001b[94m▏\u001b[94m▏\u001b[94m▏\u001b[94m▏\u001b[94m▏\u001b[94m▏\u001b[94m▏\u001b[94m▏\u001b[94m▏\u001b[94m▏\u001b[94m▏\u001b[94m▏\u001b[94m▏\u001b[94m▏\u001b[94m▏\u001b[94m▏\u001b[94m▏\u001b[94m▏\u001b[94m▏\u001b[94m▏\u001b[94m▏\u001b[94m▏\u001b[94m▏\u001b[94m▏\u001b[94m▏\u001b[94m▏\u001b[94m▏\u001b[94m▏\u001b[94m▏\u001b[94m▏\u001b[94m▏\u001b[94m▏\u001b[94m▏\u001b[94m▏\u001b[94m▏\u001b[94m▏\u001b[94m▏\u001b[94m▏\u001b[94m▏\u001b[94m▏\u001b[94m▏\u001b[94m▏\u001b[94m▏\u001b[94m▏\u001b[94m▏\u001b[94m▏\u001b[94m▏\u001b[94m▏\u001b[94m▏\u001b[94m▏\u001b[94m▏\u001b[94m▏\u001b[94m▏\u001b[94m▏\u001b[94m▏\u001b[94m▏\u001b[94m▏\u001b[94m▏\u001b[94m▏\u001b[94m▏\u001b[94m▏\u001b[94m▏\u001b[94m▏\u001b[94m▏\u001b[94m▏\u001b[94m▏\u001b[94m▏\u001b[94m▏\u001b[94m▏\u001b[94m▏\u001b[94m▏\u001b[94m▏\u001b[94m▏\u001b[94m▏\u001b[94m▏\u001b[94m▏\u001b[94m▏\u001b[94m▏\u001b[94m▏\u001b[94m▏\u001b[94m▏\u001b[94m▏\u001b[94m▏\u001b[94m▏\u001b[94m▏\u001b[94m▏\u001b[94m▏\u001b[94m▏\u001b[94m▏\u001b[94m▏\u001b[94m▏\u001b[94m▏\u001b[94m▏\u001b[94m▏\u001b[94m▏\u001b[94m▏\u001b[94m▏\u001b[94m▏\u001b[94m▏\u001b[94m▏\u001b[94m▏\u001b[94m▏\u001b[94m▏\u001b[94m▏\u001b[94m▏\u001b[94m▏\u001b[94m▏\u001b[94m▏\u001b[94m▏\u001b[94m▏\u001b[94m▏\u001b[94m▏\u001b[94m▏\u001b[94m▏\u001b[94m▏\u001b[94m▏\u001b[94m▏\u001b[94m▏\u001b[94m▏\u001b[94m▏\u001b[94m▏\u001b[94m▏\u001b[94m▏\u001b[94m▏\u001b[94m▏\u001b[94m▏\u001b[94m▏\u001b[94m▏\u001b[94m▏\u001b[94m▏\u001b[94m▏\u001b[94m▏\u001b[94m▏\u001b[94m▏\u001b[94m▏\u001b[94m▏\u001b[94m▏\u001b[94m▏\u001b[94m▏\u001b[94m▏\u001b[94m▏\u001b[94m▏\u001b[94m▏\u001b[94m▏\u001b[94m▏\u001b[94m▏\u001b[94m▏\u001b[94m▏\u001b[94m▏\u001b[94m▏\u001b[94m▏\u001b[94m▏\u001b[94m▏\u001b[94m▏\u001b[94m▏\u001b[94m▏\u001b[94m▏\u001b[94m▏\u001b[94m▏\u001b[94m▏\u001b[94m▏\u001b[94m▏\u001b[94m▏\u001b[94m▏\u001b[94m▏\u001b[94m▏\u001b[94m▏\u001b[94m▏\u001b[94m▏\u001b[94m▏\u001b[94m▏\u001b[94m▏\u001b[94m▏\u001b[94m▏\u001b[94m▏\u001b[94m▏\u001b[94m▏\u001b[94m▏\u001b[94m▏\u001b[94m▏\u001b[94m▏\u001b[94m▏\u001b[94m▏\u001b[94m▏\u001b[94m▏\u001b[94m▏\u001b[94m▏\u001b[94m▏\u001b[94m▏\u001b[94m▏\u001b[94m▏\u001b[94m▏\u001b[94m▏\u001b[94m▏\u001b[94m▏\u001b[94m▏\u001b[94m▏\u001b[94m▏\u001b[94m▏\u001b[94m▏\u001b[94m▏\u001b[94m▏\u001b[94m▏\u001b[94m▏\u001b[94m▏\u001b[94m▏\u001b[94m▏\u001b[94m▏\u001b[94m▏\u001b[94m▏\u001b[94m▏\u001b[94m▏\u001b[94m▏\u001b[94m▏\u001b[94m▏\u001b[94m▏\u001b[94m▏\u001b[94m▏\u001b[94m▏\u001b[94m▏\u001b[94m▏\u001b[94m▏\u001b[94m▏\u001b[94m▏\u001b[94m▏\u001b[94m▏\u001b[94m▏\u001b[94m▏\u001b[94m▏\u001b[94m▏\u001b[94m▏\u001b[94m▏\u001b[94m▏\u001b[94m▏\u001b[94m▏\u001b[94m▏\u001b[94m▏\u001b[94m▏\u001b[94m▏\u001b[94m▏\u001b[94m▏\u001b[94m▏\u001b[94m▏\u001b[94m▏\u001b[94m▏\u001b[94m▏\u001b[94m▏\u001b[94m▏\u001b[94m▏\u001b[94m▏\u001b[94m▏\u001b[94m▏\u001b[94m▏\u001b[94m▏\u001b[94m▏\u001b[94m▏\u001b[94m▏\u001b[94m▏\u001b[94m▏\u001b[94m▏\u001b[94m▏\u001b[94m▏\u001b[94m▏\u001b[94m▏\u001b[94m▏\u001b[94m▏\u001b[94m▏\u001b[94m▏\u001b[94m▏\u001b[94m▏\u001b[94m▏\u001b[94m▏\u001b[94m▏\u001b[94m▏\u001b[94m▏\u001b[94m▏\u001b[94m▏\u001b[94m▏\u001b[94m▏\u001b[94m▏\u001b[94m▏\u001b[94m▏\u001b[94m▏\u001b[94m▏\u001b[94m▏\u001b[94m▏\u001b[94m▏\u001b[94m▏\u001b[94m▏\u001b[94m▏\u001b[94m▏\u001b[94m▏\u001b[94m▏\u001b[94m▏\u001b[94m▏\u001b[94m▏\u001b[94m▏\u001b[94m▏\u001b[94m▏\u001b[94m▏\u001b[94m▏\u001b[94m▏\u001b[94m▏\u001b[94m▏\u001b[94m▏\u001b[94m▏\u001b[94m▏\u001b[94m▏\u001b[94m▏\u001b[94m▏\u001b[94m▏\u001b[94m▏\u001b[94m▏\u001b[94m▏\u001b[94m▏\u001b[94m▏\u001b[94m▏\u001b[94m▏\u001b[94m▏\u001b[94m▏\u001b[94m▏\u001b[94m▏\u001b[94m▏\u001b[94m▏\u001b[94m▏\u001b[94m▏\u001b[94m▏\u001b[94m▏\u001b[94m▏\u001b[94m▏\u001b[94m▏\u001b[94m▏\u001b[94m▏\u001b[94m▏\u001b[94m▏\u001b[94m▏\u001b[94m▏\u001b[94m▏\u001b[94m▏\u001b[94m▏\u001b[94m▏\u001b[94m▏\u001b[94m▏\u001b[94m▏\u001b[94m▏\u001b[94m▏\u001b[94m▏\u001b[94m▏\u001b[94m▏\u001b[94m▏\u001b[94m▏\u001b[94m▏\u001b[94m▏\u001b[94m▏\u001b[94m▏\u001b[94m▏\u001b[94m▏\u001b[94m▏\u001b[94m▏\u001b[94m▏\u001b[94m▏\u001b[94m▏\u001b[94m▏\u001b[94m▏\u001b[94m▏\u001b[94m▏\u001b[94m▏\u001b[94m▏\u001b[94m▏\u001b[94m▏\u001b[94m▏\u001b[94m▏\u001b[94m▏\u001b[94m▏\u001b[94m▏\u001b[94m▏\u001b[94m▏\u001b[94m▏\u001b[94m▏\u001b[94m▏\u001b[94m▏\u001b[94m▏\u001b[94m▏\u001b[94m▏\u001b[94m▏\u001b[94m▏\u001b[94m▏\u001b[94m▏\u001b[94m▏\u001b[94m▏\u001b[94m▏\u001b[94m▏\u001b[94m▏\u001b[94m▏\u001b[94m▏\u001b[94m▏\u001b[94m▏\u001b[94m▏\u001b[94m▏\u001b[94m▏\u001b[94m▏\u001b[94m▏\u001b[94m▏\u001b[94m▏\u001b[94m▏\u001b[94m▏\u001b[94m▏\u001b[94m▏\u001b[94m▏\u001b[94m▏\u001b[94m▏\u001b[94m▏\u001b[94m▏\u001b[94m▏\u001b[94m▏\u001b[94m▏\u001b[94m▏\u001b[94m▏\u001b[94m▏\u001b[94m▏\u001b[94m▏\u001b[94m▏\u001b[94m▏\u001b[94m▏\u001b[94m▏\u001b[94m▏\u001b[94m▏\u001b[94m▏\u001b[94m▏\u001b[94m▏\u001b[94m▏\u001b[94m▏\u001b[94m▏\u001b[94m▏\u001b[92m▏\u001b[92m▏\u001b[92m▏\u001b[92m▏\u001b[92m▏\u001b[92m▏\u001b[92m▏\u001b[92m▏\u001b[92m▏\u001b[92m▏\u001b[92m▏\u001b[92m▏\u001b[92m▏\u001b[92m▏\u001b[92m▏\u001b[92m▏\u001b[92m▏\u001b[92m▏\u001b[92m▏\u001b[92m▏\u001b[92m▏\u001b[92m▏\u001b[92m▏\u001b[92m▏\u001b[92m▏\u001b[92m▏\u001b[92m▏\u001b[92m▏\u001b[92m▏\u001b[92m▏\u001b[92m▏\u001b[92m▏\u001b[92m▏\u001b[92m▏\u001b[92m▏\u001b[92m▏\u001b[92m▏\u001b[92m▏\u001b[92m▏\u001b[92m▏\u001b[92m▏\u001b[92m▏\u001b[92m▏\u001b[92m▏\u001b[92m▏\u001b[92m▏\u001b[92m▏\u001b[92m▏\u001b[92m▏\u001b[92m▏\u001b[92m▏\u001b[92m▏\u001b[92m▏\u001b[92m▏\u001b[92m▏\u001b[92m▏\u001b[92m▏\u001b[92m▏\u001b[92m▏\u001b[92m▏\u001b[92m▏\u001b[92m▏\u001b[92m▏\u001b[92m▏\u001b[92m▏\u001b[92m▏\u001b[92m▏\u001b[92m▏\u001b[92m▏\u001b[92m▏\u001b[92m▏\u001b[92m▏\u001b[92m▏\u001b[92m▏\u001b[92m▏\u001b[92m▏\u001b[92m▏\u001b[92m▏\u001b[92m▏\u001b[92m▏\u001b[92m▏\u001b[92m▏\u001b[92m▏\u001b[92m▏\u001b[92m▏\u001b[92m▏\u001b[92m▏\u001b[92m▏\u001b[92m▏\u001b[92m▏\u001b[92m▏\u001b[92m▏\u001b[92m▏\u001b[92m▏\u001b[92m▏\u001b[92m▏\u001b[92m▏\u001b[92m▏\u001b[92m▏\u001b[92m▏\u001b[92m▏\u001b[92m▏\u001b[92m▏\u001b[92m▏\u001b[92m▏\u001b[92m▏\u001b[92m▏\u001b[92m▏\u001b[92m▏\u001b[92m▏\u001b[92m▏\u001b[92m▏\u001b[92m▏\u001b[92m▏\u001b[92m▏\u001b[92m▏\u001b[92m▏\u001b[92m▏\u001b[92m▏\u001b[92m▏\u001b[92m▏\u001b[92m▏\u001b[92m▏\u001b[92m▏\u001b[92m▏\u001b[92m▏\u001b[92m▏\u001b[92m▏\u001b[92m▏\u001b[92m▏\u001b[92m▏\u001b[92m▏\u001b[92m▏\u001b[92m▏\u001b[92m▏\u001b[92m▏\u001b[92m▏\u001b[92m▏\u001b[92m▏\u001b[92m▏\u001b[92m▏\u001b[92m▏\u001b[92m▏\u001b[92m▏\u001b[92m▏\u001b[92m▏\u001b[92m▏\u001b[92m▏\u001b[92m▏\u001b[92m▏\u001b[92m▏\u001b[92m▏\u001b[92m▏\u001b[92m▏\u001b[92m▏\u001b[92m▏\u001b[92m▏\u001b[92m▏\u001b[92m▏\u001b[92m▏\u001b[92m▏\u001b[92m▏\u001b[92m▏\u001b[92m▏\u001b[92m▏\u001b[92m▏\u001b[92m▏\u001b[92m▏\u001b[92m▏\u001b[92m▏\u001b[92m▏\u001b[92m▏\u001b[92m▏\u001b[92m▏\u001b[92m▏\u001b[92m▏\u001b[92m▏\u001b[92m▏\u001b[92m▏\u001b[92m▏\u001b[92m▏\u001b[92m▏\u001b[92m▏\u001b[92m▏\u001b[92m▏\u001b[92m▏\u001b[92m▏\u001b[92m▏\u001b[92m▏\u001b[92m▏\u001b[92m▏\u001b[92m▏\u001b[92m▏\u001b[92m▏\u001b[92m▏\u001b[92m▏\u001b[92m▏\u001b[92m▏\u001b[92m▏\u001b[92m▏\u001b[92m▏\u001b[92m▏\u001b[92m▏\u001b[92m▏\u001b[92m▏\u001b[92m▏\u001b[92m▏\u001b[92m▏\u001b[92m▏\u001b[92m▏\u001b[92m▏\u001b[92m▏\u001b[92m▏\u001b[92m▏\u001b[92m▏\u001b[92m▏\u001b[92m▏\u001b[92m▏\u001b[92m▏\u001b[92m▏\u001b[92m▏\u001b[92m▏\u001b[92m▏\u001b[92m▏\u001b[92m▏\u001b[92m▏\u001b[92m▏\u001b[92m▏\u001b[92m▏\u001b[92m▏\u001b[92m▏\u001b[92m▏\u001b[92m▏\u001b[92m▏\u001b[92m▏\u001b[92m▏\u001b[92m▏\u001b[92m▏\u001b[92m▏\u001b[92m▏\u001b[92m▏\u001b[92m▏\u001b[92m▏\u001b[92m▏\u001b[92m▏\u001b[92m▏\u001b[92m▏\u001b[92m▏\u001b[92m▏\u001b[92m▏\u001b[92m▏\u001b[92m▏\u001b[92m▏\u001b[92m▏\u001b[92m▏\u001b[92m▏\u001b[92m▏\u001b[92m▏\u001b[92m▏\u001b[92m▏\u001b[92m▏\u001b[92m▏\u001b[92m▏\u001b[92m▏\u001b[92m▏\u001b[92m▏\u001b[92m▏\u001b[92m▏\u001b[92m▏\u001b[92m▏\u001b[92m▏\u001b[92m▏\u001b[92m▏\u001b[92m▏\u001b[92m▏\u001b[92m▏\u001b[92m▏\u001b[92m▏\u001b[92m▏\u001b[92m▏\u001b[92m▏\u001b[92m▏\u001b[92m▏\u001b[92m▏\u001b[92m▏\u001b[92m▏\u001b[92m▏\u001b[92m▏\u001b[92m▏\u001b[92m▏\u001b[92m▏\u001b[92m▏\u001b[92m▏\u001b[92m▏\u001b[92m▏\u001b[92m▏\u001b[92m▏\u001b[92m▏\u001b[92m▏\u001b[92m▏\u001b[92m▏\u001b[92m▏\u001b[92m▏\u001b[92m▏\u001b[92m▏\u001b[92m▏\u001b[92m▏\u001b[92m▏\u001b[92m▏\u001b[92m▏\u001b[92m▏\u001b[92m▏\u001b[92m▏\u001b[92m▏\u001b[92m▏\u001b[92m▏\u001b[92m▏\u001b[92m▏\u001b[92m▏\u001b[92m▏\u001b[92m▏\u001b[92m▏\u001b[92m▏\u001b[92m▏\u001b[92m▏\u001b[92m▏\u001b[92m▏\u001b[92m▏\u001b[92m▏\u001b[92m▏\u001b[92m▏\u001b[92m▏\u001b[92m▏\u001b[92m▏\u001b[92m▏\u001b[92m▏\u001b[92m▏\u001b[92m▏\u001b[92m▏\u001b[92m▏\u001b[92m▏\u001b[92m▏\u001b[92m▏\u001b[92m▏\u001b[92m▏\u001b[92m▏\u001b[92m▏\u001b[92m▏\u001b[92m▏\u001b[92m▏\u001b[92m▏\u001b[92m▏\u001b[92m▏\u001b[92m▏\u001b[92m▏\u001b[92m▏\u001b[92m▏\u001b[92m▏\u001b[92m▏\u001b[92m▏\u001b[92m▏\u001b[92m▏\u001b[92m▏\u001b[92m▏\u001b[92m▏\u001b[92m▏\u001b[92m▏\u001b[92m▏\u001b[92m▏\u001b[92m▏\u001b[92m▏\u001b[92m▏\u001b[92m▏\u001b[92m▏\u001b[92m▏\u001b[92m▏\u001b[92m▏\u001b[92m▏\u001b[92m▏\u001b[92m▏\u001b[92m▏\u001b[92m▏\u001b[92m▏\u001b[92m▏\u001b[92m▏\u001b[92m▏\u001b[92m▏\u001b[92m▏\u001b[92m▏\u001b[92m▏\u001b[92m▏\u001b[92m▏\u001b[92m▏\u001b[92m▏\u001b[92m▏\u001b[92m▏\u001b[92m▏\u001b[92m▏\u001b[92m▏\u001b[92m▏\u001b[92m▏\u001b[92m▏\u001b[92m▏\u001b[92m▏\u001b[92m▏\u001b[92m▏\u001b[92m▏\u001b[92m▏\u001b[92m▏\u001b[92m▏\u001b[92m▏\u001b[92m▏\u001b[92m▏\u001b[92m▏\u001b[92m▏\u001b[92m▏\u001b[92m▏\u001b[92m▏\u001b[92m▏\u001b[92m▏\u001b[92m▏\u001b[92m▏\u001b[92m▏\u001b[92m▏\u001b[92m▏\u001b[92m▏\u001b[92m▏\u001b[92m▏\u001b[92m▏\u001b[92m▏\u001b[92m▏\u001b[92m▏\u001b[92m▏\u001b[92m▏\u001b[92m▏\u001b[92m▏\u001b[92m▏\u001b[92m▏\u001b[92m▏\u001b[92m▏\u001b[92m▏\u001b[92m▏\u001b[92m▏\u001b[92m▏\u001b[92m▏\u001b[92m▏\u001b[92m▏\u001b[92m▏\u001b[92m▏\u001b[92m▏\u001b[92m▏\u001b[92m▏\u001b[92m▏\u001b[92m▏\u001b[92m▏\u001b[92m▏\u001b[92m▏\u001b[92m▏\u001b[92m▏\u001b[92m▏\u001b[92m▏\u001b[92m▏\u001b[92m▏\u001b[92m▏\u001b[92m▏\u001b[92m▏\u001b[92m▏\u001b[92m▏\u001b[92m▏\u001b[92m▏\u001b[92m▏\u001b[92m▏\u001b[92m▏\u001b[92m▏\u001b[92m▏\u001b[92m▏\u001b[92m▏\u001b[92m▏\u001b[92m▏\u001b[92m▏\u001b[92m▏\u001b[92m▏\u001b[92m▏\u001b[92m▏\u001b[92m▏\u001b[92m▏\u001b[92m▏\u001b[92m▏\u001b[92m▏\u001b[92m▏\u001b[92m▏\u001b[92m▏\u001b[92m▏\u001b[92m▏\u001b[92m▏\u001b[92m▏\u001b[92m▏\u001b[92m▏\u001b[92m▏\u001b[92m▏\u001b[92m▏\u001b[92m▏\u001b[92m▏\u001b[92m▏\u001b[92m▏\u001b[92m▏\u001b[92m▏\u001b[92m▏\u001b[92m▏\u001b[92m▏\u001b[92m▏\u001b[92m▏\u001b[92m▏\u001b[92m▏\u001b[92m▏\u001b[92m▏\u001b[92m▏\u001b[92m▏\u001b[92m▏\u001b[92m▏\u001b[92m▏\u001b[92m▏\u001b[92m▏\u001b[92m▏\u001b[92m▏\u001b[92m▏\u001b[92m▏\u001b[92m▏\u001b[92m▏\u001b[92m▏\u001b[92m▏\u001b[92m▏\u001b[92m▏\u001b[92m▏\u001b[92m▏\u001b[92m▏\u001b[92m▏\u001b[92m▏\u001b[92m▏\u001b[92m▏\u001b[92m▏\u001b[92m▏\u001b[92m▏\u001b[92m▏\u001b[92m▏\u001b[92m▏\u001b[92m▏\u001b[92m▏\u001b[92m▏\u001b[92m▏\u001b[92m▏\u001b[92m▏\u001b[92m▏\u001b[92m▏\u001b[92m▏\u001b[92m▏\u001b[92m▏\u001b[92m▏\u001b[92m▏\u001b[92m▏\u001b[92m▏\u001b[92m▏\u001b[92m▏\u001b[92m▏\u001b[92m▏\u001b[92m▏\u001b[92m▏\u001b[92m▏\u001b[92m▏\u001b[92m▏\u001b[92m▏\u001b[92m▏\u001b[92m▏\u001b[92m▏\u001b[92m▏\u001b[92m▏\u001b[92m▏\u001b[92m▏\u001b[92m▏\u001b[92m▏\u001b[92m▏\u001b[92m▏\u001b[92m▏\u001b[92m▏\u001b[92m▏\u001b[92m▏\u001b[92m▏\u001b[92m▏\u001b[92m▏"
     ]
    },
    {
     "name": "stdout",
     "output_type": "stream",
     "text": [
      "\u001b[92m▏\u001b[92m▏\u001b[92m▏\u001b[92m▏\u001b[92m▏\u001b[92m▏\u001b[92m▏\u001b[92m▏\u001b[92m▏\u001b[92m▏\u001b[92m▏\u001b[92m▏\u001b[92m▏\u001b[92m▏\u001b[92m▏\u001b[92m▏\u001b[92m▏\u001b[92m▏\u001b[92m▏\u001b[92m▏\u001b[92m▏\u001b[92m▏\u001b[92m▏\u001b[92m▏\u001b[92m▏\u001b[92m▏\u001b[92m▏\u001b[92m▏\u001b[92m▏\u001b[92m▏\u001b[92m▏\u001b[92m▏\u001b[92m▏\u001b[92m▏\u001b[92m▏\u001b[92m▏\u001b[92m▏\u001b[92m▏\u001b[92m▏\u001b[92m▏\u001b[92m▏\u001b[92m▏\u001b[92m▏\u001b[92m▏\u001b[92m▏\u001b[92m▏\u001b[92m▏\u001b[92m▏\u001b[92m▏\u001b[92m▏\u001b[92m▏\u001b[92m▏\u001b[92m▏\u001b[92m▏\u001b[92m▏\u001b[92m▏\u001b[92m▏\u001b[92m▏\u001b[92m▏\u001b[92m▏\u001b[92m▏\u001b[92m▏\u001b[92m▏\u001b[92m▏\u001b[92m▏\u001b[92m▏\u001b[92m▏\u001b[92m▏\u001b[92m▏\u001b[92m▏\u001b[92m▏\u001b[92m▏\u001b[92m▏\u001b[92m▏\u001b[92m▏\u001b[92m▏\u001b[92m▏\u001b[92m▏\u001b[92m▏\u001b[92m▏\u001b[92m▏\u001b[92m▏\u001b[92m▏\u001b[92m▏\u001b[92m▏\u001b[92m▏\u001b[92m▏\u001b[92m▏\u001b[92m▏\u001b[92m▏\u001b[92m▏\u001b[92m▏\u001b[92m▏\u001b[92m▏\u001b[92m▏\u001b[92m▏\u001b[92m▏\u001b[92m▏\u001b[92m▏\u001b[92m▏\u001b[92m▏\u001b[92m▏\u001b[92m▏\u001b[92m▏\u001b[92m▏\u001b[92m▏\u001b[92m▏\u001b[92m▏\u001b[92m▏\u001b[92m▏\u001b[92m▏\u001b[92m▏\u001b[92m▏\u001b[92m▏\u001b[92m▏\u001b[92m▏\u001b[92m▏\u001b[92m▏\u001b[92m▏\u001b[92m▏\u001b[92m▏\u001b[92m▏\u001b[92m▏\u001b[92m▏\u001b[92m▏\u001b[92m▏\u001b[92m▏\u001b[92m▏\u001b[92m▏\u001b[92m▏\u001b[92m▏\u001b[92m▏\u001b[92m▏\u001b[92m▏\u001b[92m▏\u001b[92m▏\u001b[92m▏\u001b[92m▏\u001b[92m▏\u001b[92m▏\u001b[92m▏\u001b[92m▏\u001b[92m▏\u001b[92m▏\u001b[92m▏\u001b[92m▏\u001b[92m▏\u001b[92m▏\u001b[92m▏\u001b[92m▏\u001b[92m▏\u001b[92m▏\u001b[92m▏\u001b[92m▏\u001b[92m▏\u001b[92m▏\u001b[92m▏\u001b[92m▏\u001b[92m▏\u001b[92m▏\u001b[92m▏\u001b[92m▏\u001b[92m▏\u001b[92m▏\u001b[92m▏\u001b[92m▏\u001b[92m▏\u001b[92m▏\u001b[92m▏\u001b[92m▏\u001b[92m▏\u001b[92m▏\u001b[92m▏\u001b[92m▏\u001b[92m▏\u001b[92m▏\u001b[92m▏\u001b[92m▏\u001b[92m▏\u001b[92m▏\u001b[92m▏\u001b[92m▏\u001b[92m▏\u001b[92m▏\u001b[92m▏\u001b[92m▏\u001b[92m▏\u001b[92m▏\u001b[92m▏\u001b[92m▏\u001b[92m▏\u001b[92m▏\u001b[92m▏[0, 0.0, 0.0, 0.375, '00:15']\n",
      "\u001b[92m▏\u001b[92m▏\u001b[92m▏\u001b[92m▏\u001b[92m▏\u001b[92m▏\u001b[92m▏\u001b[92m▏\u001b[92m▏\u001b[92m▏\u001b[92m▏\u001b[92m▏\u001b[92m▏\u001b[92m▏\u001b[92m▏\u001b[92m▏\u001b[92m▏\u001b[92m▏\u001b[92m▏\u001b[92m▏\u001b[92m▏\u001b[92m▏\u001b[92m▏\u001b[92m▏\u001b[92m▏\u001b[92m▏\u001b[92m▏\u001b[92m▏\u001b[92m▏\u001b[92m▏\u001b[92m▏\u001b[92m▏\u001b[92m▏\u001b[92m▏\u001b[92m▏\u001b[92m▏\u001b[92m▏\u001b[92m▏\u001b[92m▏\u001b[92m▏\u001b[92m▏\u001b[92m▏\u001b[92m▏\u001b[92m▏\u001b[92m▏\u001b[92m▏\u001b[92m▏\u001b[92m▏\u001b[92m▏\u001b[92m▏\u001b[92m▏\u001b[92m▏\u001b[92m▏\u001b[92m▏\u001b[92m▏\u001b[92m▏\u001b[92m▏\u001b[92m▏\u001b[92m▏\u001b[92m▏\u001b[92m▏\u001b[92m▏\u001b[92m▏\u001b[92m▏\u001b[92m▏\u001b[92m▏\u001b[92m▏\u001b[92m▏\u001b[92m▏\u001b[92m▏\u001b[92m▏\u001b[92m▏\u001b[92m▏\u001b[92m▏\u001b[92m▏\u001b[92m▏\u001b[92m▏\u001b[92m▏\u001b[92m▏\u001b[92m▏\u001b[92m▏\u001b[92m▏\u001b[92m▏\u001b[92m▏\u001b[92m▏\u001b[92m▏\u001b[92m▏\u001b[92m▏\u001b[92m▏\u001b[92m▏\u001b[92m▏\u001b[92m▏\u001b[92m▏\u001b[92m▏\u001b[92m▏\u001b[92m▏\u001b[92m▏\u001b[92m▏\u001b[92m▏\u001b[92m▏\u001b[92m▏\u001b[92m▏\u001b[92m▏\u001b[92m▏\u001b[92m▏\u001b[92m▏\u001b[92m▏\u001b[92m▏\u001b[92m▏\u001b[92m▏\u001b[92m▏\u001b[92m▏\u001b[92m▏\u001b[92m▏\u001b[92m▏\u001b[92m▏\u001b[92m▏\u001b[92m▏\u001b[92m▏\u001b[92m▏\u001b[92m▏\u001b[92m▏\u001b[92m▏\u001b[92m▏\u001b[92m▏\u001b[92m▏\u001b[92m▏\u001b[92m▏\u001b[92m▏\u001b[92m▏\u001b[92m▏\u001b[92m▏\u001b[92m▏\u001b[92m▏\u001b[92m▏\u001b[92m▏\u001b[92m▏\u001b[92m▏\u001b[92m▏\u001b[92m▏\u001b[92m▏\u001b[92m▏\u001b[92m▏\u001b[92m▏\u001b[92m▏\u001b[92m▏\u001b[92m▏\u001b[92m▏\u001b[92m▏\u001b[92m▏\u001b[92m▏\u001b[92m▏\u001b[92m▏\u001b[92m▏\u001b[92m▏\u001b[92m▏\u001b[92m▏\u001b[92m▏\u001b[92m▏\u001b[92m▏\u001b[92m▏\u001b[92m▏\u001b[92m▏\u001b[92m▏\u001b[92m▏\u001b[92m▏\u001b[92m▏\u001b[92m▏\u001b[92m▏\u001b[92m▏\u001b[92m▏\u001b[92m▏\u001b[92m▏\u001b[92m▏\u001b[92m▏\u001b[92m▏\u001b[92m▏\u001b[92m▏\u001b[92m▏\u001b[92m▏\u001b[92m▏\u001b[92m▏\u001b[92m▏\u001b[92m▏\u001b[92m▏\u001b[92m▏\u001b[92m▏\u001b[92m▏\u001b[92m▏\u001b[92m▏\u001b[92m▏\u001b[92m▏\u001b[92m▏\u001b[92m▏\u001b[92m▏\u001b[92m▏\u001b[92m▏\u001b[92m▏\u001b[92m▏\u001b[92m▏\u001b[92m▏\u001b[92m▏\u001b[92m▏\u001b[92m▏\u001b[92m▏\u001b[92m▏\u001b[92m▏\u001b[92m▏\u001b[92m▏\u001b[92m▏\u001b[92m▏\u001b[92m▏\u001b[92m▏\u001b[92m▏\u001b[92m▏\u001b[92m▏\u001b[92m▏\u001b[92m▏\u001b[92m▏\u001b[92m▏\u001b[92m▏\u001b[92m▏\u001b[92m▏\u001b[92m▏\u001b[92m▏\u001b[92m▏\u001b[92m▏\u001b[92m▏\u001b[92m▏\u001b[92m▏\u001b[92m▏\u001b[92m▏\u001b[92m▏\u001b[92m▏\u001b[92m▏\u001b[92m▏\u001b[92m▏\u001b[92m▏\u001b[92m▏\u001b[92m▏\u001b[92m▏\u001b[92m▏\u001b[92m▏\u001b[92m▏\u001b[92m▏\u001b[92m▏\u001b[92m▏\u001b[92m▏\u001b[92m▏\u001b[92m▏\u001b[92m▏\u001b[92m▏\u001b[92m▏\u001b[92m▏\u001b[92m▏\u001b[92m▏\u001b[92m▏\u001b[92m▏\u001b[92m▏\u001b[92m▏\u001b[92m▏\u001b[92m▏\u001b[92m▏\u001b[92m▏\u001b[92m▏\u001b[92m▏\u001b[92m▏\u001b[92m▏\u001b[92m▏\u001b[92m▏\u001b[92m▏\u001b[92m▏\u001b[92m▏\u001b[92m▏\u001b[92m▏\u001b[92m▏\u001b[92m▏\u001b[92m▏\u001b[92m▏\u001b[92m▏\u001b[92m▏\u001b[92m▏\u001b[92m▏\u001b[92m▏\u001b[92m▏\u001b[92m▏\u001b[92m▏\u001b[92m▏\u001b[92m▏\u001b[92m▏\u001b[92m▏\u001b[92m▏\u001b[92m▏\u001b[92m▏\u001b[92m▏\u001b[92m▏\u001b[92m▏\u001b[92m▏\u001b[92m▏\u001b[92m▏\u001b[92m▏\u001b[92m▏\u001b[92m▏\u001b[92m▏\u001b[92m▏\u001b[92m▏\u001b[92m▏\u001b[92m▏\u001b[92m▏\u001b[92m▏\u001b[92m▏\u001b[92m▏\u001b[92m▏\u001b[92m▏\u001b[92m▏\u001b[92m▏\u001b[92m▏\u001b[92m▏\u001b[92m▏\u001b[92m▏\u001b[92m▏\u001b[92m▏\u001b[92m▏\u001b[92m▏\u001b[92m▏\u001b[92m▏\u001b[92m▏\u001b[92m▏\u001b[92m▏\u001b[92m▏\u001b[92m▏\u001b[92m▏\u001b[92m▏\u001b[92m▏\u001b[92m▏\u001b[92m▏\u001b[92m▏\u001b[92m▏\u001b[92m▏\u001b[92m▏\u001b[92m▏\u001b[92m▏\u001b[92m▏\u001b[92m▏\u001b[92m▏\u001b[92m▏\u001b[92m▏\u001b[92m▏\u001b[92m▏\u001b[92m▏\u001b[92m▏\u001b[92m▏\u001b[92m▏\u001b[92m▏\u001b[92m▏\u001b[92m▏\u001b[92m▏\u001b[92m▏\u001b[92m▏\u001b[92m▏\u001b[92m▏\u001b[92m▏\u001b[92m▏\u001b[92m▏\u001b[92m▏\u001b[92m▏\u001b[92m▏\u001b[92m▏\u001b[92m▏\u001b[92m▏\u001b[92m▏\u001b[92m▏\u001b[92m▏\u001b[92m▏\u001b[92m▏\u001b[92m▏\u001b[92m▏\u001b[92m▏\u001b[92m▏\u001b[92m▏\u001b[92m▏\u001b[92m▏\u001b[92m▏\u001b[92m▏\u001b[92m▏\u001b[92m▏\u001b[92m▏\u001b[92m▏\u001b[92m▏\u001b[92m▏\u001b[92m▏\u001b[92m▏\u001b[92m▏\u001b[92m▏\u001b[92m▏\u001b[92m▏\u001b[92m▏\u001b[92m▏\u001b[92m▏\u001b[92m▏\u001b[92m▏\u001b[92m▏\u001b[92m▏\u001b[92m▏\u001b[92m▏\u001b[92m▏\u001b[92m▏\u001b[92m▏\u001b[92m▏\u001b[92m▏\u001b[92m▏\u001b[92m▏\u001b[92m▏\u001b[92m▏\u001b[92m▏\u001b[92m▏\u001b[92m▏\u001b[92m▏\u001b[92m▏\u001b[92m▏\u001b[92m▏\u001b[92m▏\u001b[92m▏\u001b[92m▏\u001b[92m▏\u001b[92m▏\u001b[92m▏\u001b[92m▏\u001b[92m▏\u001b[92m▏\u001b[92m▏\u001b[92m▏\u001b[92m▏\u001b[92m▏\u001b[92m▏\u001b[92m▏\u001b[92m▏\u001b[92m▏\u001b[92m▏\u001b[92m▏\u001b[92m▏\u001b[92m▏\u001b[92m▏\u001b[92m▏\u001b[92m▏\u001b[92m▏\u001b[92m▏\u001b[92m▏\u001b[92m▏\u001b[92m▏\u001b[92m▏\u001b[92m▏\u001b[92m▏\u001b[92m▏\u001b[92m▏\u001b[92m▏\u001b[92m▏\u001b[92m▏\u001b[92m▏\u001b[92m▏\u001b[92m▏\u001b[92m▏\u001b[92m▏\u001b[92m▏\u001b[92m▏\u001b[92m▏\u001b[92m▏\u001b[92m▏\u001b[92m▏\u001b[92m▏\u001b[92m▏\u001b[92m▏\u001b[92m▏\u001b[92m▏\u001b[92m▏\u001b[92m▏\u001b[92m▏\u001b[92m▏\u001b[92m▏\u001b[92m▏\u001b[92m▏\u001b[92m▏\u001b[92m▏\u001b[92m▏\u001b[92m▏\u001b[92m▏\u001b[92m▏\u001b[92m▏\u001b[92m▏\u001b[92m▏\u001b[92m▏\u001b[92m▏\u001b[92m▏\u001b[92m▏\u001b[92m▏\u001b[92m▏\u001b[92m▏\u001b[92m▏\u001b[92m▏\u001b[92m▏\u001b[92m▏\u001b[92m▏\u001b[92m▏\u001b[92m▏\u001b[92m▏\u001b[92m▏\u001b[92m▏\u001b[92m▏\u001b[92m▏\u001b[92m▏\u001b[92m▏\u001b[92m▏\u001b[92m▏\u001b[92m▏\u001b[92m▏\u001b[92m▏\u001b[92m▏\u001b[92m▏\u001b[92m▏\u001b[92m▏\u001b[92m▏\u001b[92m▏\u001b[92m▏\u001b[92m▏\u001b[92m▏\u001b[92m▏\u001b[92m▏\u001b[92m▏\u001b[92m▏\u001b[92m▏\u001b[92m▏\u001b[92m▏\u001b[92m▏\u001b[92m▏\u001b[92m▏\u001b[92m▏\u001b[92m▏\u001b[92m▏\u001b[92m▏\u001b[92m▏\u001b[92m▏\u001b[92m▏\u001b[92m▏\u001b[92m▏\u001b[92m▏\u001b[92m▏\u001b[92m▏\u001b[92m▏\u001b[92m▏\u001b[92m▏\u001b[92m▏\u001b[92m▏\u001b[92m▏\u001b[92m▏\u001b[92m▏\u001b[92m▏\u001b[92m▏\u001b[92m▏\u001b[92m▏\u001b[92m▏\u001b[92m▏\u001b[92m▏\u001b[92m▏\u001b[92m▏\u001b[92m▏\u001b[92m▏\u001b[92m▏\u001b[92m▏\u001b[92m▏\u001b[92m▏\u001b[92m▏\u001b[92m▏\u001b[92m▏\u001b[92m▏\u001b[92m▏\u001b[92m▏\u001b[92m▏\u001b[92m▏\u001b[92m▏\u001b[92m▏\u001b[92m▏\u001b[92m▏\u001b[92m▏\u001b[92m▏\u001b[92m▏\u001b[92m▏\u001b[92m▏\u001b[92m▏\u001b[92m▏\u001b[92m▏\u001b[92m▏\u001b[92m▏\u001b[92m▏\u001b[92m▏\u001b[92m▏\u001b[92m▏\u001b[92m▏\u001b[92m▏\u001b[92m▏\u001b[92m▏\u001b[92m▏\u001b[92m▏\u001b[92m▏\u001b[92m▏\u001b[92m▏\u001b[92m▏\u001b[92m▏\u001b[92m▏\u001b[92m▏\u001b[92m▏\u001b[92m▏\u001b[92m▏\u001b[92m▏\u001b[92m▏\u001b[92m▏\u001b[92m▏\u001b[92m▏\u001b[92m▏\u001b[92m▏\u001b[92m▏\u001b[92m▏\u001b[92m▏\u001b[92m▏\u001b[92m▏\u001b[92m▏\u001b[92m▏\u001b[92m▏\u001b[92m▏\u001b[92m▏\u001b[92m▏\u001b[92m▏\u001b[92m▏\u001b[92m▏\u001b[92m▏\u001b[92m▏\u001b[92m▏\u001b[92m▏\u001b[92m▏\u001b[92m▏\u001b[92m▏\u001b[92m▏\u001b[92m▏\u001b[92m▏\u001b[92m▏\u001b[92m▏\u001b[92m▏\u001b[92m▏\u001b[92m▏\u001b[92m▏\u001b[92m▏\u001b[92m▏\u001b[92m▏\u001b[92m▏\u001b[92m▏\u001b[92m▏\u001b[92m▏\u001b[92m▏\u001b[92m▏\u001b[92m▏\u001b[92m▏\u001b[92m▏\u001b[92m▏\u001b[92m▏\u001b[92m▏\u001b[92m▏\u001b[92m▏\u001b[92m▏\u001b[92m▏\u001b[92m▏\u001b[92m▏\u001b[92m▏\u001b[92m▏\u001b[92m▏\u001b[92m▏\u001b[92m▏\u001b[92m▏\u001b[92m▏\u001b[92m▏\u001b[92m▏\u001b[92m▏\u001b[92m▏\u001b[92m▏\u001b[92m▏\u001b[92m▏\u001b[92m▏\u001b[92m▏\u001b[92m▏\u001b[92m▏\u001b[92m▏\u001b[92m▏\u001b[92m▏\u001b[92m▏\u001b[92m▏\u001b[92m▏\u001b[92m▏\u001b[92m▏\u001b[92m▏\u001b[92m▏\u001b[92m▏\u001b[92m▏\u001b[92m▏\u001b[92m▏\u001b[92m▏\u001b[92m▏\u001b[92m▏\u001b[92m▏\u001b[92m▏\u001b[92m▏\u001b[92m▏\u001b[92m▏\u001b[92m▏\u001b[92m▏\u001b[92m▏\u001b[92m▏\u001b[92m▏\u001b[92m▏\u001b[92m▏\u001b[92m▏\u001b[92m▏\u001b[92m▏\u001b[92m▏\u001b[92m▏\u001b[92m▏\u001b[92m▏\u001b[92m▏\u001b[92m▏\u001b[92m▏\u001b[92m▏\u001b[92m▏\u001b[92m▏\u001b[92m▏\u001b[92m▏\u001b[92m▏\u001b[92m▏\u001b[92m▏\u001b[92m▏\u001b[92m▏\u001b[92m▏\u001b[92m▏\u001b[92m▏\u001b[92m▏\u001b[92m▏\u001b[92m▏\u001b[92m▏\u001b[92m▏\u001b[92m▏\u001b[92m▏\u001b[92m▏\u001b[92m▏\u001b[92m▏\u001b[92m▏\u001b[92m▏\u001b[92m▏\u001b[92m▏\u001b[92m▏\u001b[92m▏\u001b[92m▏\u001b[92m▏\u001b[92m▏\u001b[92m▏\u001b[92m▏\u001b[92m▏\u001b[92m▏\u001b[92m▏\u001b[92m▏\u001b[92m▏\u001b[92m▏\u001b[92m▏\u001b[92m▏\u001b[92m▏\u001b[92m▏\u001b[92m▏\u001b[92m▏\u001b[92m▏\u001b[92m▏\u001b[92m▏\u001b[92m▏\u001b[92m▏\u001b[92m▏\u001b[92m▏\u001b[92m▏\u001b[92m▏[0, 0.0, 0.0, 0.375, '00:15']\n"
     ]
    },
    {
     "name": "stdout",
     "output_type": "stream",
     "text": [
      "\u001b[92m▏\u001b[92m▏\u001b[92m▏\u001b[92m▏\u001b[92m▏\u001b[92m▏\u001b[92m▏\u001b[92m▏\u001b[92m▏\u001b[92m▏\u001b[92m▏\u001b[92m▏\u001b[92m▏\u001b[92m▏\u001b[92m▏\u001b[92m▏\u001b[92m▏\u001b[92m▏\u001b[92m▏\u001b[92m▏\u001b[92m▏\u001b[92m▏\u001b[92m▏\u001b[92m▏\u001b[92m▏\u001b[92m▏\u001b[92m▏\u001b[92m▏\u001b[92m▏\u001b[92m▏\u001b[92m▏\u001b[92m▏\u001b[92m▏\u001b[92m▏\u001b[92m▏\u001b[92m▏\u001b[92m▏\u001b[92m▏\u001b[92m▏\u001b[92m▏\u001b[92m▏\u001b[92m▏\u001b[92m▏\u001b[92m▏\u001b[92m▏\u001b[92m▏\u001b[92m▏\u001b[92m▏\u001b[92m▏\u001b[92m▏\u001b[92m▏\u001b[92m▏\u001b[92m▏\u001b[92m▏\u001b[92m▏\u001b[92m▏\u001b[92m▏\u001b[92m▏\u001b[92m▏\u001b[92m▏\u001b[92m▏\u001b[92m▏\u001b[92m▏\u001b[92m▏\u001b[92m▏\u001b[92m▏\u001b[92m▏\u001b[92m▏\u001b[92m▏\u001b[92m▏\u001b[92m▏\u001b[92m▏\u001b[92m▏\u001b[92m▏\u001b[92m▏\u001b[92m▏\u001b[92m▏\u001b[92m▏\u001b[92m▏\u001b[92m▏\u001b[92m▏\u001b[92m▏\u001b[92m▏\u001b[92m▏\u001b[92m▏\u001b[92m▏\u001b[92m▏\u001b[92m▏\u001b[92m▏\u001b[92m▏\u001b[92m▏\u001b[92m▏\u001b[92m▏\u001b[92m▏\u001b[92m▏\u001b[92m▏\u001b[92m▏\u001b[92m▏\u001b[92m▏\u001b[92m▏\u001b[92m▏\u001b[92m▏\u001b[92m▏\u001b[92m▏\u001b[92m▏\u001b[92m▏\u001b[92m▏\u001b[92m▏\u001b[92m▏\u001b[92m▏\u001b[92m▏\u001b[92m▏\u001b[92m▏\u001b[92m▏\u001b[92m▏\u001b[92m▏\u001b[92m▏\u001b[92m▏\u001b[92m▏\u001b[92m▏\u001b[92m▏\u001b[92m▏\u001b[92m▏\u001b[92m▏\u001b[92m▏\u001b[92m▏\u001b[92m▏\u001b[92m▏\u001b[92m▏\u001b[92m▏\u001b[92m▏\u001b[92m▏\u001b[92m▏\u001b[92m▏\u001b[92m▏\u001b[92m▏\u001b[92m▏\u001b[92m▏\u001b[92m▏\u001b[92m▏\u001b[92m▏\u001b[92m▏\u001b[92m▏\u001b[92m▏\u001b[92m▏\u001b[92m▏\u001b[92m▏\u001b[92m▏\u001b[92m▏\u001b[92m▏\u001b[92m▏\u001b[92m▏\u001b[92m▏\u001b[92m▏\u001b[92m▏\u001b[92m▏\u001b[92m▏\u001b[92m▏\u001b[92m▏\u001b[92m▏\u001b[92m▏\u001b[92m▏\u001b[92m▏\u001b[92m▏\u001b[92m▏\u001b[92m▏\u001b[92m▏\u001b[92m▏\u001b[92m▏\u001b[92m▏\u001b[92m▏\u001b[92m▏\u001b[92m▏\u001b[92m▏\u001b[92m▏\u001b[92m▏\u001b[92m▏\u001b[92m▏\u001b[92m▏\u001b[92m▏\u001b[92m▏\u001b[92m▏\u001b[92m▏\u001b[92m▏\u001b[92m▏\u001b[92m▏\u001b[92m▏\u001b[92m▏\u001b[92m▏\u001b[92m▏\u001b[92m▏\u001b[92m▏\u001b[92m▏\u001b[92m▏\u001b[92m▏\u001b[92m▏\u001b[92m▏\u001b[92m▏\u001b[92m▏\u001b[92m▏\u001b[92m▏\u001b[92m▏\u001b[92m▏\u001b[92m▏\u001b[92m▏\u001b[92m▏\u001b[92m▏\u001b[92m▏\u001b[92m▏\u001b[92m▏\u001b[92m▏\u001b[92m▏\u001b[92m▏\u001b[92m▏\u001b[92m▏\u001b[92m▏\u001b[92m▏\u001b[92m▏\u001b[92m▏\u001b[92m▏\u001b[92m▏\u001b[92m▏\u001b[92m▏\u001b[92m▏\u001b[92m▏\u001b[92m▏\u001b[92m▏\u001b[92m▏\u001b[92m▏\u001b[92m▏\u001b[92m▏\u001b[92m▏\u001b[92m▏\u001b[92m▏\u001b[92m▏\u001b[92m▏\u001b[92m▏\u001b[92m▏\u001b[92m▏\u001b[92m▏\u001b[92m▏\u001b[92m▏\u001b[92m▏\u001b[92m▏\u001b[92m▏\u001b[92m▏\u001b[92m▏\u001b[92m▏\u001b[92m▏\u001b[92m▏\u001b[92m▏\u001b[92m▏\u001b[92m▏\u001b[92m▏\u001b[92m▏\u001b[92m▏\u001b[92m▏\u001b[92m▏\u001b[92m▏\u001b[92m▏\u001b[92m▏\u001b[92m▏\u001b[92m▏\u001b[92m▏\u001b[92m▏\u001b[92m▏\u001b[92m▏\u001b[92m▏\u001b[92m▏\u001b[92m▏\u001b[92m▏\u001b[92m▏\u001b[92m▏\u001b[92m▏\u001b[92m▏\u001b[92m▏\u001b[92m▏\u001b[92m▏\u001b[92m▏\u001b[92m▏\u001b[92m▏\u001b[92m▏\u001b[92m▏\u001b[92m▏\u001b[92m▏\u001b[92m▏\u001b[92m▏\u001b[92m▏\u001b[92m▏\u001b[92m▏\u001b[92m▏\u001b[92m▏\u001b[92m▏\u001b[92m▏\u001b[92m▏\u001b[92m▏\u001b[92m▏\u001b[92m▏\u001b[92m▏\u001b[92m▏\u001b[92m▏\u001b[92m▏\u001b[92m▏\u001b[92m▏\u001b[92m▏\u001b[92m▏\u001b[92m▏\u001b[92m▏\u001b[92m▏\u001b[92m▏\u001b[92m▏\u001b[92m▏\u001b[92m▏\u001b[92m▏\u001b[92m▏\u001b[92m▏\u001b[92m▏\u001b[92m▏\u001b[92m▏\u001b[92m▏\u001b[92m▏\u001b[92m▏\u001b[92m▏\u001b[92m▏\u001b[92m▏\u001b[92m▏\u001b[92m▏\u001b[92m▏\u001b[92m▏\u001b[92m▏\u001b[92m▏\u001b[92m▏\u001b[92m▏\u001b[92m▏\u001b[92m▏\u001b[92m▏\u001b[92m▏\u001b[92m▏\u001b[92m▏\u001b[92m▏\u001b[92m▏\u001b[92m▏\u001b[92m▏\u001b[92m▏\u001b[92m▏\u001b[92m▏\u001b[92m▏\u001b[92m▏\u001b[92m▏\u001b[92m▏\u001b[92m▏\u001b[92m▏\u001b[92m▏\u001b[92m▏\u001b[92m▏\u001b[92m▏\u001b[92m▏\u001b[92m▏\u001b[92m▏\u001b[92m▏\u001b[92m▏\u001b[92m▏\u001b[92m▏\u001b[92m▏\u001b[92m▏\u001b[92m▏\u001b[92m▏\u001b[92m▏\u001b[92m▏\u001b[92m▏\u001b[92m▏\u001b[92m▏\u001b[92m▏\u001b[92m▏\u001b[92m▏\u001b[92m▏\u001b[92m▏\u001b[92m▏\u001b[92m▏\u001b[92m▏\u001b[92m▏\u001b[92m▏\u001b[92m▏\u001b[92m▏\u001b[92m▏\u001b[92m▏\u001b[92m▏\u001b[92m▏\u001b[92m▏\u001b[92m▏\u001b[92m▏\u001b[92m▏\u001b[92m▏\u001b[92m▏\u001b[92m▏\u001b[92m▏\u001b[92m▏\u001b[92m▏\u001b[92m▏\u001b[92m▏\u001b[92m▏\u001b[92m▏\u001b[92m▏\u001b[92m▏\u001b[92m▏\u001b[92m▏\u001b[92m▏\u001b[92m▏\u001b[92m▏\u001b[92m▏\u001b[92m▏\u001b[92m▏\u001b[92m▏\u001b[92m▏\u001b[92m▏\u001b[92m▏\u001b[92m▏\u001b[92m▏\u001b[92m▏\u001b[92m▏\u001b[92m▏\u001b[92m▏\u001b[92m▏\u001b[92m▏\u001b[92m▏\u001b[92m▏\u001b[92m▏\u001b[92m▏\u001b[92m▏\u001b[92m▏\u001b[92m▏\u001b[92m▏\u001b[92m▏\u001b[92m▏\u001b[92m▏\u001b[92m▏\u001b[92m▏\u001b[92m▏\u001b[92m▏\u001b[92m▏\u001b[92m▏\u001b[92m▏\u001b[92m▏\u001b[92m▏\u001b[92m▏\u001b[92m▏\u001b[92m▏\u001b[92m▏\u001b[92m▏\u001b[92m▏\u001b[92m▏\u001b[92m▏\u001b[92m▏\u001b[92m▏\u001b[92m▏\u001b[92m▏\u001b[92m▏\u001b[92m▏\u001b[92m▏\u001b[92m▏\u001b[92m▏\u001b[92m▏\u001b[92m▏\u001b[92m▏\u001b[92m▏\u001b[92m▏\u001b[92m▏\u001b[92m▏\u001b[92m▏\u001b[92m▏\u001b[92m▏\u001b[92m▏\u001b[92m▏\u001b[92m▏\u001b[92m▏\u001b[92m▏\u001b[92m▏\u001b[92m▏\u001b[92m▏\u001b[92m▏\u001b[92m▏\u001b[92m▏\u001b[92m▏\u001b[92m▏\u001b[92m▏\u001b[92m▏\u001b[92m▏\u001b[92m▏\u001b[92m▏\u001b[92m▏\u001b[92m▏\u001b[92m▏\u001b[92m▏\u001b[92m▏\u001b[92m▏\u001b[92m▏\u001b[92m▏\u001b[92m▏\u001b[92m▏\u001b[92m▏\u001b[92m▏\u001b[92m▏\u001b[92m▏\u001b[92m▏\u001b[92m▏\u001b[92m▏\u001b[92m▏\u001b[92m▏\u001b[92m▏\u001b[92m▏\u001b[92m▏\u001b[92m▏\u001b[92m▏\u001b[92m▏\u001b[92m▏\u001b[92m▏\u001b[92m▏\u001b[92m▏\u001b[92m▏\u001b[92m▏\u001b[92m▏\u001b[92m▏\u001b[92m▏\u001b[92m▏\u001b[92m▏\u001b[92m▏\u001b[92m▏\u001b[92m▏\u001b[92m▏\u001b[92m▏\u001b[92m▏\u001b[92m▏\u001b[92m▏\u001b[92m▏\u001b[92m▏\u001b[92m▏\u001b[92m▏\u001b[92m▏\u001b[92m▏\u001b[92m▏\u001b[92m▏\u001b[92m▏\u001b[92m▏\u001b[92m▏\u001b[92m▏\u001b[92m▏\u001b[92m▏\u001b[92m▏\u001b[92m▏\u001b[92m▏\u001b[92m▏\u001b[92m▏\u001b[92m▏\u001b[92m▏\u001b[92m▏\u001b[92m▏\u001b[92m▏\u001b[92m▏\u001b[92m▏\u001b[92m▏\u001b[92m▏\u001b[92m▏\u001b[92m▏\u001b[92m▏\u001b[92m▏\u001b[92m▏\u001b[92m▏\u001b[92m▏\u001b[92m▏\u001b[92m▏\u001b[92m▏\u001b[92m▏\u001b[92m▏\u001b[92m▏\u001b[92m▏\u001b[92m▏\u001b[92m▏\u001b[92m▏\u001b[92m▏\u001b[92m▏\u001b[92m▏\u001b[92m▏\u001b[92m▏\u001b[92m▏\u001b[92m▏\u001b[92m▏\u001b[92m▏\u001b[92m▏\u001b[92m▏\u001b[92m▏\u001b[92m▏\u001b[92m▏\u001b[92m▏\u001b[92m▏\u001b[92m▏\u001b[92m▏\u001b[92m▏\u001b[92m▏\u001b[92m▏\u001b[92m▏\u001b[92m▏\u001b[92m▏\u001b[92m▏\u001b[92m▏\u001b[92m▏\u001b[92m▏\u001b[92m▏\u001b[92m▏\u001b[92m▏\u001b[92m▏\u001b[92m▏\u001b[92m▏\u001b[92m▏\u001b[92m▏\u001b[92m▏\u001b[92m▏\u001b[92m▏\u001b[92m▏\u001b[92m▏\u001b[92m▏\u001b[92m▏\u001b[92m▏\u001b[92m▏\u001b[92m▏\u001b[92m▏\u001b[92m▏\u001b[92m▏\u001b[92m▏\u001b[92m▏\u001b[92m▏\u001b[92m▏\u001b[92m▏\u001b[92m▏\u001b[92m▏\u001b[92m▏\u001b[92m▏\u001b[92m▏\u001b[92m▏\u001b[92m▏\u001b[92m▏\u001b[92m▏\u001b[92m▏\u001b[92m▏\u001b[92m▏\u001b[92m▏\u001b[92m▏\u001b[92m▏\u001b[92m▏\u001b[92m▏\u001b[92m▏\u001b[92m▏\u001b[92m▏\u001b[92m▏\u001b[92m▏\u001b[92m▏\u001b[92m▏\u001b[92m▏\u001b[92m▏\u001b[92m▏\u001b[92m▏\u001b[92m▏\u001b[92m▏\u001b[92m▏\u001b[92m▏\u001b[92m▏\u001b[92m▏\u001b[92m▏\u001b[92m▏\u001b[92m▏\u001b[92m▏\u001b[92m▏\u001b[92m▏\u001b[92m▏\u001b[92m▏\u001b[92m▏\u001b[92m▏\u001b[92m▏\u001b[92m▏\u001b[92m▏\u001b[92m▏\u001b[92m▏\u001b[92m▏\u001b[92m▏\u001b[92m▏\u001b[92m▏\u001b[92m▏\u001b[92m▏\u001b[92m▏\u001b[92m▏\u001b[92m▏\u001b[92m▏\u001b[92m▏\u001b[92m▏\u001b[92m▏\u001b[92m▏\u001b[92m▏\u001b[92m▏\u001b[92m▏\u001b[92m▏\u001b[92m▏\u001b[92m▏\u001b[92m▏\u001b[92m▏\u001b[92m▏\u001b[92m▏\u001b[92m▏\u001b[92m▏\u001b[92m▏\u001b[92m▏\u001b[92m▏\u001b[92m▏\u001b[92m▏\u001b[92m▏\u001b[92m▏\u001b[92m▏\u001b[92m▏\u001b[92m▏\u001b[92m▏\u001b[92m▏\u001b[92m▏\u001b[92m▏\u001b[92m▏\u001b[92m▏\u001b[92m▏\u001b[92m▏\u001b[92m▏\u001b[92m▏\u001b[92m▏\u001b[92m▏\u001b[92m▏\u001b[92m▏\u001b[92m▏\u001b[92m▏\u001b[92m▏\u001b[92m▏\u001b[92m▏\u001b[92m▏\u001b[92m▏\u001b[92m▏\u001b[92m▏\u001b[92m▏\u001b[92m▏\u001b[92m▏\u001b[92m▏\u001b[92m▏\u001b[92m▏\u001b[92m▏\u001b[92m▏\u001b[92m▏\u001b[92m▏\u001b[92m▏\u001b[92m▏\u001b[92m▏\u001b[92m▏\u001b[92m▏\u001b[92m▏\u001b[92m▏\u001b[92m▏\u001b[92m▏\u001b[92m▏\u001b[92m▏\u001b[92m▏\u001b[92m▏\u001b[92m▏\u001b[92m▏\u001b[92m▏\u001b[92m▏\u001b[92m▏\u001b[92m▏\u001b[92m▏\u001b[92m▏\u001b[92m▏\u001b[92m▏\u001b[92m▏\u001b[92m▏\u001b[92m▏\u001b[92m▏\u001b[92m▏\u001b[92m▏\u001b[92m▏\u001b[92m▏\u001b[92m▏[0, 0.0, 0.0, 0.375, '00:17']\n"
     ]
    },
    {
     "name": "stdout",
     "output_type": "stream",
     "text": [
      "\u001b[92m▏\u001b[92m▏\u001b[92m▏\u001b[92m▏\u001b[92m▏\u001b[92m▏\u001b[92m▏\u001b[92m▏\u001b[92m▏\u001b[92m▏\u001b[92m▏\u001b[92m▏\u001b[92m▏\u001b[92m▏\u001b[92m▏\u001b[92m▏\u001b[92m▏\u001b[92m▏\u001b[92m▏\u001b[92m▏\u001b[92m▏\u001b[92m▏\u001b[92m▏\u001b[92m▏\u001b[92m▏\u001b[92m▏\u001b[92m▏\u001b[92m▏\u001b[92m▏\u001b[92m▏\u001b[92m▏\u001b[92m▏\u001b[92m▏\u001b[92m▏\u001b[92m▏\u001b[92m▏\u001b[92m▏\u001b[92m▏\u001b[92m▏\u001b[92m▏\u001b[92m▏\u001b[92m▏\u001b[92m▏\u001b[92m▏\u001b[92m▏\u001b[92m▏\u001b[92m▏\u001b[92m▏\u001b[92m▏\u001b[92m▏\u001b[92m▏\u001b[92m▏\u001b[92m▏\u001b[92m▏\u001b[92m▏\u001b[92m▏\u001b[92m▏\u001b[92m▏\u001b[92m▏\u001b[92m▏\u001b[92m▏\u001b[92m▏\u001b[92m▏\u001b[92m▏\u001b[92m▏\u001b[92m▏\u001b[92m▏\u001b[92m▏\u001b[92m▏\u001b[92m▏\u001b[92m▏\u001b[92m▏\u001b[92m▏\u001b[92m▏\u001b[92m▏\u001b[92m▏\u001b[92m▏\u001b[92m▏\u001b[92m▏\u001b[92m▏\u001b[92m▏\u001b[92m▏\u001b[92m▏\u001b[92m▏\u001b[92m▏\u001b[92m▏\u001b[92m▏\u001b[92m▏\u001b[92m▏\u001b[92m▏\u001b[92m▏\u001b[92m▏\u001b[92m▏\u001b[92m▏\u001b[92m▏\u001b[92m▏\u001b[92m▏\u001b[92m▏\u001b[92m▏\u001b[92m▏\u001b[92m▏\u001b[92m▏\u001b[92m▏\u001b[92m▏\u001b[92m▏\u001b[92m▏\u001b[92m▏\u001b[92m▏\u001b[92m▏\u001b[92m▏\u001b[92m▏\u001b[92m▏\u001b[92m▏\u001b[92m▏\u001b[92m▏\u001b[92m▏\u001b[92m▏\u001b[92m▏\u001b[92m▏\u001b[92m▏\u001b[92m▏\u001b[92m▏\u001b[92m▏\u001b[92m▏\u001b[92m▏\u001b[92m▏\u001b[92m▏\u001b[92m▏\u001b[92m▏\u001b[92m▏\u001b[92m▏\u001b[92m▏\u001b[92m▏\u001b[92m▏\u001b[92m▏\u001b[92m▏\u001b[92m▏\u001b[92m▏\u001b[92m▏\u001b[92m▏\u001b[92m▏\u001b[92m▏\u001b[92m▏\u001b[92m▏\u001b[92m▏\u001b[92m▏\u001b[92m▏\u001b[92m▏\u001b[92m▏\u001b[92m▏\u001b[92m▏\u001b[92m▏\u001b[92m▏\u001b[92m▏\u001b[92m▏\u001b[92m▏\u001b[92m▏\u001b[92m▏\u001b[92m▏\u001b[92m▏\u001b[92m▏\u001b[92m▏\u001b[92m▏\u001b[92m▏\u001b[92m▏\u001b[92m▏\u001b[92m▏\u001b[92m▏\u001b[92m▏\u001b[92m▏\u001b[92m▏\u001b[92m▏\u001b[92m▏\u001b[92m▏\u001b[92m▏\u001b[92m▏\u001b[92m▏\u001b[92m▏\u001b[92m▏\u001b[92m▏\u001b[92m▏\u001b[92m▏\u001b[92m▏\u001b[92m▏\u001b[92m▏\u001b[92m▏\u001b[92m▏\u001b[92m▏\u001b[92m▏\u001b[92m▏\u001b[92m▏\u001b[92m▏\u001b[92m▏\u001b[92m▏\u001b[92m▏\u001b[92m▏\u001b[92m▏\u001b[92m▏\u001b[92m▏\u001b[92m▏\u001b[92m▏\u001b[92m▏\u001b[92m▏\u001b[92m▏\u001b[92m▏\u001b[92m▏\u001b[92m▏\u001b[92m▏\u001b[92m▏\u001b[92m▏\u001b[92m▏\u001b[92m▏\u001b[92m▏\u001b[92m▏\u001b[92m▏\u001b[92m▏\u001b[92m▏\u001b[92m▏\u001b[92m▏\u001b[92m▏\u001b[92m▏\u001b[92m▏\u001b[92m▏\u001b[92m▏\u001b[92m▏\u001b[92m▏\u001b[92m▏\u001b[92m▏\u001b[92m▏\u001b[92m▏\u001b[92m▏\u001b[92m▏\u001b[92m▏\u001b[92m▏\u001b[92m▏\u001b[92m▏\u001b[92m▏\u001b[92m▏\u001b[92m▏\u001b[92m▏\u001b[92m▏\u001b[92m▏\u001b[92m▏\u001b[92m▏\u001b[92m▏\u001b[92m▏\u001b[92m▏\u001b[92m▏\u001b[92m▏\u001b[92m▏\u001b[92m▏\u001b[92m▏\u001b[92m▏\u001b[92m▏\u001b[92m▏\u001b[92m▏\u001b[92m▏\u001b[92m▏\u001b[92m▏\u001b[92m▏\u001b[92m▏\u001b[92m▏\u001b[92m▏\u001b[92m▏\u001b[92m▏\u001b[92m▏\u001b[92m▏\u001b[92m▏\u001b[92m▏\u001b[92m▏\u001b[92m▏\u001b[92m▏\u001b[92m▏\u001b[92m▏\u001b[92m▏\u001b[92m▏\u001b[92m▏\u001b[92m▏\u001b[92m▏\u001b[92m▏\u001b[92m▏\u001b[92m▏\u001b[92m▏\u001b[92m▏\u001b[92m▏\u001b[92m▏\u001b[92m▏\u001b[92m▏\u001b[92m▏\u001b[92m▏\u001b[92m▏\u001b[92m▏\u001b[92m▏\u001b[92m▏\u001b[92m▏\u001b[92m▏\u001b[92m▏\u001b[92m▏\u001b[92m▏\u001b[92m▏\u001b[92m▏\u001b[92m▏\u001b[92m▏\u001b[92m▏\u001b[92m▏\u001b[92m▏\u001b[92m▏\u001b[92m▏\u001b[92m▏\u001b[92m▏\u001b[92m▏\u001b[92m▏\u001b[92m▏\u001b[92m▏\u001b[92m▏\u001b[92m▏\u001b[92m▏\u001b[92m▏\u001b[92m▏\u001b[92m▏\u001b[92m▏\u001b[92m▏\u001b[92m▏\u001b[92m▏\u001b[92m▏\u001b[92m▏\u001b[92m▏\u001b[92m▏\u001b[92m▏\u001b[92m▏\u001b[92m▏\u001b[92m▏\u001b[92m▏\u001b[92m▏\u001b[92m▏\u001b[92m▏\u001b[92m▏\u001b[92m▏\u001b[92m▏\u001b[92m▏\u001b[92m▏\u001b[92m▏\u001b[92m▏\u001b[92m▏\u001b[92m▏\u001b[92m▏\u001b[92m▏\u001b[92m▏\u001b[92m▏\u001b[92m▏\u001b[92m▏\u001b[92m▏\u001b[92m▏\u001b[92m▏\u001b[92m▏\u001b[92m▏\u001b[92m▏\u001b[92m▏\u001b[92m▏\u001b[92m▏\u001b[92m▏\u001b[92m▏\u001b[92m▏\u001b[92m▏\u001b[92m▏\u001b[92m▏\u001b[92m▏\u001b[92m▏\u001b[92m▏\u001b[92m▏\u001b[92m▏\u001b[92m▏\u001b[92m▏\u001b[92m▏\u001b[92m▏\u001b[92m▏\u001b[92m▏\u001b[92m▏\u001b[92m▏\u001b[92m▏\u001b[92m▏\u001b[92m▏\u001b[92m▏\u001b[92m▏\u001b[92m▏\u001b[92m▏\u001b[92m▏\u001b[92m▏\u001b[92m▏\u001b[92m▏\u001b[92m▏\u001b[92m▏\u001b[92m▏\u001b[92m▏\u001b[92m▏\u001b[92m▏\u001b[92m▏\u001b[92m▏\u001b[92m▏\u001b[92m▏\u001b[92m▏\u001b[92m▏\u001b[92m▏\u001b[92m▏\u001b[92m▏\u001b[92m▏\u001b[92m▏\u001b[92m▏\u001b[92m▏\u001b[92m▏\u001b[92m▏\u001b[92m▏\u001b[92m▏\u001b[92m▏\u001b[92m▏\u001b[92m▏\u001b[92m▏\u001b[92m▏\u001b[92m▏\u001b[92m▏\u001b[92m▏\u001b[92m▏\u001b[92m▏\u001b[92m▏\u001b[92m▏\u001b[92m▏\u001b[92m▏\u001b[92m▏\u001b[92m▏\u001b[92m▏\u001b[92m▏\u001b[92m▏\u001b[92m▏\u001b[92m▏\u001b[92m▏\u001b[92m▏\u001b[92m▏\u001b[92m▏\u001b[92m▏\u001b[92m▏\u001b[92m▏\u001b[92m▏\u001b[92m▏\u001b[92m▏\u001b[92m▏\u001b[92m▏\u001b[92m▏\u001b[92m▏\u001b[92m▏\u001b[92m▏\u001b[92m▏\u001b[92m▏\u001b[92m▏\u001b[92m▏\u001b[92m▏\u001b[92m▏\u001b[92m▏\u001b[92m▏\u001b[92m▏\u001b[92m▏\u001b[92m▏\u001b[92m▏\u001b[92m▏\u001b[92m▏\u001b[92m▏\u001b[92m▏\u001b[92m▏\u001b[92m▏\u001b[92m▏\u001b[92m▏\u001b[92m▏\u001b[92m▏\u001b[92m▏\u001b[92m▏\u001b[92m▏\u001b[92m▏\u001b[92m▏\u001b[92m▏\u001b[92m▏\u001b[92m▏\u001b[92m▏\u001b[92m▏\u001b[92m▏\u001b[92m▏\u001b[92m▏\u001b[92m▏\u001b[92m▏\u001b[92m▏\u001b[92m▏\u001b[92m▏\u001b[92m▏\u001b[92m▏\u001b[92m▏\u001b[92m▏\u001b[92m▏\u001b[92m▏\u001b[92m▏\u001b[92m▏\u001b[92m▏\u001b[92m▏\u001b[92m▏\u001b[92m▏\u001b[92m▏\u001b[92m▏\u001b[92m▏\u001b[92m▏\u001b[92m▏\u001b[92m▏\u001b[92m▏\u001b[92m▏\u001b[92m▏\u001b[92m▏\u001b[92m▏\u001b[92m▏\u001b[92m▏\u001b[92m▏\u001b[92m▏\u001b[92m▏\u001b[92m▏\u001b[92m▏\u001b[92m▏\u001b[92m▏\u001b[92m▏\u001b[92m▏\u001b[92m▏\u001b[92m▏\u001b[92m▏\u001b[92m▏\u001b[92m▏\u001b[92m▏\u001b[92m▏\u001b[92m▏\u001b[92m▏\u001b[92m▏\u001b[92m▏\u001b[92m▏\u001b[92m▏\u001b[92m▏\u001b[92m▏\u001b[92m▏\u001b[92m▏\u001b[92m▏\u001b[92m▏\u001b[92m▏\u001b[92m▏\u001b[92m▏\u001b[92m▏\u001b[92m▏\u001b[92m▏\u001b[92m▏\u001b[92m▏\u001b[92m▏\u001b[92m▏\u001b[92m▏\u001b[92m▏\u001b[92m▏\u001b[92m▏\u001b[92m▏\u001b[92m▏\u001b[92m▏\u001b[92m▏\u001b[92m▏\u001b[92m▏\u001b[92m▏\u001b[92m▏\u001b[92m▏\u001b[92m▏\u001b[92m▏\u001b[92m▏\u001b[92m▏\u001b[92m▏\u001b[92m▏\u001b[92m▏\u001b[92m▏\u001b[92m▏\u001b[92m▏\u001b[92m▏\u001b[92m▏\u001b[92m▏\u001b[92m▏\u001b[92m▏\u001b[92m▏\u001b[92m▏\u001b[92m▏\u001b[92m▏\u001b[92m▏\u001b[92m▏\u001b[92m▏\u001b[92m▏\u001b[92m▏\u001b[92m▏\u001b[92m▏\u001b[92m▏\u001b[92m▏\u001b[92m▏\u001b[92m▏\u001b[92m▏\u001b[92m▏\u001b[92m▏\u001b[92m▏\u001b[92m▏\u001b[92m▏\u001b[92m▏\u001b[92m▏\u001b[92m▏\u001b[92m▏\u001b[92m▏\u001b[92m▏\u001b[92m▏\u001b[92m▏\u001b[92m▏\u001b[92m▏\u001b[92m▏\u001b[92m▏\u001b[92m▏\u001b[92m▏\u001b[92m▏\u001b[92m▏\u001b[92m▏\u001b[92m▏\u001b[92m▏\u001b[92m▏\u001b[92m▏\u001b[92m▏\u001b[92m▏\u001b[92m▏\u001b[92m▏\u001b[92m▏\u001b[92m▏\u001b[92m▏\u001b[92m▏\u001b[92m▏\u001b[92m▏\u001b[92m▏\u001b[92m▏\u001b[92m▏\u001b[92m▏\u001b[92m▏\u001b[92m▏\u001b[92m▏\u001b[92m▏\u001b[92m▏\u001b[92m▏\u001b[92m▏\u001b[92m▏\u001b[92m▏\u001b[92m▏\u001b[92m▏\u001b[92m▏\u001b[92m▏\u001b[92m▏\u001b[92m▏\u001b[92m▏\u001b[92m▏\u001b[92m▏\u001b[92m▏\u001b[92m▏\u001b[92m▏\u001b[92m▏\u001b[92m▏\u001b[92m▏\u001b[92m▏\u001b[92m▏\u001b[92m▏\u001b[92m▏\u001b[92m▏\u001b[92m▏\u001b[92m▏\u001b[92m▏\u001b[92m▏\u001b[92m▏\u001b[92m▏\u001b[92m▏\u001b[92m▏\u001b[92m▏\u001b[92m▏\u001b[92m▏\u001b[92m▏\u001b[92m▏\u001b[92m▏\u001b[92m▏\u001b[92m▏\u001b[92m▏\u001b[92m▏\u001b[92m▏\u001b[92m▏\u001b[92m▏\u001b[92m▏\u001b[92m▏\u001b[92m▏\u001b[92m▏\u001b[92m▏\u001b[92m▏\u001b[92m▏\u001b[92m▏\u001b[92m▏\u001b[92m▏\u001b[92m▏\u001b[92m▏\u001b[92m▏\u001b[92m▏\u001b[92m▏\u001b[92m▏\u001b[92m▏\u001b[92m▏\u001b[92m▏\u001b[92m▏\u001b[92m▏\u001b[92m▏\u001b[92m▏\u001b[92m▏\u001b[92m▏\u001b[92m▏\u001b[92m▏\u001b[92m▏\u001b[92m▏\u001b[92m▏\u001b[92m▏\u001b[92m▏\u001b[92m▏\u001b[92m▏\u001b[92m▏\u001b[92m▏\u001b[92m▏\u001b[92m▏\u001b[92m▏\u001b[92m▏\u001b[92m▏\u001b[92m▏\u001b[92m▏\u001b[92m▏\u001b[92m▏\u001b[92m▏\u001b[92m▏\u001b[92m▏\u001b[92m▏\u001b[92m▏\u001b[92m▏\u001b[92m▏\u001b[92m▏\u001b[92m▏\u001b[92m▏\u001b[92m▏\u001b[92m▏\u001b[92m▏\u001b[92m▏\u001b[92m▏\u001b[92m▏\u001b[92m▏\u001b[92m▏\u001b[92m▏\u001b[92m▏\u001b[92m▏\u001b[92m▏\u001b[92m▏\u001b[92m▏\u001b[92m▏\u001b[92m▏\u001b[92m▏\u001b[92m▏\u001b[92m▏\u001b[92m▏\u001b[92m▏\u001b[92m▏\u001b[92m▏\u001b[92m▏\u001b[92m▏\u001b[92m▏\u001b[92m▏\u001b[92m▏\u001b[92m▏\u001b[92m▏\u001b[92m▏\u001b[92m▏\u001b[92m▏\u001b[92m▏\u001b[92m▏\u001b[92m▏\u001b[92m▏\u001b[92m▏\u001b[92m▏\u001b[92m▏[0, 0.0, 0.0, 0.375, '00:17']\n",
      "[0, 0.0, 0.0, 0.375, '00:17', '00:17']\n"
     ]
    },
    {
     "name": "stdout",
     "output_type": "stream",
     "text": [
      "\u001b[92m▏\u001b[92m▏\u001b[92m▏\u001b[92m▏\u001b[92m▏\u001b[92m▏\u001b[92m▏\u001b[92m▏\u001b[92m▏\u001b[92m▏\u001b[92m▏\u001b[92m▏\u001b[92m▏\u001b[92m▏\u001b[92m▏\u001b[92m▏\u001b[92m▏\u001b[92m▏\u001b[92m▏\u001b[92m▏\u001b[92m▏\u001b[92m▏\u001b[92m▏\u001b[92m▏\u001b[92m▏\u001b[92m▏\u001b[92m▏\u001b[92m▏\u001b[92m▏\u001b[92m▏\u001b[92m▏\u001b[92m▏\u001b[92m▏\u001b[92m▏\u001b[92m▏\u001b[92m▏\u001b[92m▏\u001b[92m▏\u001b[92m▏\u001b[92m▏\u001b[92m▏\u001b[92m▏\u001b[92m▏\u001b[92m▏\u001b[92m▏\u001b[92m▏\u001b[92m▏\u001b[92m▏\u001b[92m▏\u001b[92m▏\u001b[92m▏\u001b[92m▏\u001b[92m▏\u001b[92m▏\u001b[92m▏\u001b[92m▏\u001b[92m▏\u001b[92m▏\u001b[92m▏\u001b[92m▏\u001b[92m▏\u001b[92m▏\u001b[92m▏\u001b[92m▏\u001b[92m▏\u001b[92m▏\u001b[92m▏\u001b[92m▏\u001b[92m▏\u001b[92m▏\u001b[92m▏\u001b[92m▏\u001b[92m▏\u001b[92m▏\u001b[92m▏\u001b[92m▏\u001b[92m▏\u001b[92m▏\u001b[92m▏\u001b[92m▏\u001b[92m▏\u001b[92m▏\u001b[92m▏\u001b[92m▏\u001b[92m▏\u001b[92m▏\u001b[92m▏\u001b[92m▏\u001b[92m▏\u001b[92m▏\u001b[92m▏\u001b[92m▏\u001b[92m▏\u001b[92m▏\u001b[92m▏\u001b[92m▏\u001b[92m▏\u001b[92m▏\u001b[92m▏\u001b[92m▏\u001b[92m▏\u001b[92m▏\u001b[92m▏\u001b[92m▏\u001b[92m▏\u001b[92m▏\u001b[92m▏\u001b[92m▏\u001b[92m▏\u001b[92m▏\u001b[92m▏\u001b[92m▏\u001b[92m▏\u001b[92m▏\u001b[92m▏\u001b[92m▏\u001b[92m▏\u001b[92m▏\u001b[92m▏\u001b[92m▏\u001b[92m▏\u001b[92m▏\u001b[92m▏\u001b[92m▏\u001b[92m▏\u001b[92m▏\u001b[92m▏\u001b[92m▏\u001b[92m▏\u001b[92m▏\u001b[92m▏\u001b[92m▏\u001b[92m▏\u001b[92m▏\u001b[92m▏\u001b[92m▏\u001b[92m▏\u001b[92m▏\u001b[92m▏\u001b[92m▏\u001b[92m▏\u001b[92m▏\u001b[92m▏\u001b[92m▏\u001b[92m▏\u001b[92m▏\u001b[92m▏\u001b[92m▏\u001b[92m▏\u001b[92m▏\u001b[92m▏\u001b[92m▏\u001b[92m▏\u001b[92m▏\u001b[92m▏\u001b[92m▏\u001b[92m▏\u001b[92m▏\u001b[92m▏\u001b[92m▏\u001b[92m▏\u001b[92m▏\u001b[92m▏\u001b[92m▏\u001b[92m▏\u001b[92m▏\u001b[92m▏\u001b[92m▏\u001b[92m▏\u001b[92m▏\u001b[92m▏\u001b[92m▏\u001b[92m▏\u001b[92m▏\u001b[92m▏\u001b[92m▏\u001b[92m▏\u001b[92m▏\u001b[92m▏\u001b[92m▏\u001b[92m▏\u001b[92m▏\u001b[92m▏\u001b[92m▏\u001b[92m▏\u001b[92m▏\u001b[92m▏\u001b[92m▏\u001b[92m▏\u001b[92m▏\u001b[92m▏\u001b[92m▏\u001b[92m▏\u001b[92m▏\u001b[92m▏\u001b[92m▏\u001b[92m▏\u001b[92m▏\u001b[92m▏\u001b[92m▏\u001b[92m▏\u001b[92m▏\u001b[92m▏\u001b[92m▏\u001b[92m▏\u001b[92m▏\u001b[92m▏\u001b[92m▏\u001b[92m▏\u001b[92m▏\u001b[92m▏\u001b[92m▏\u001b[92m▏\u001b[92m▏\u001b[92m▏\u001b[92m▏\u001b[92m▏\u001b[92m▏\u001b[92m▏\u001b[92m▏\u001b[92m▏\u001b[92m▏\u001b[92m▏\u001b[92m▏\u001b[92m▏\u001b[92m▏\u001b[92m▏\u001b[92m▏\u001b[92m▏\u001b[92m▏\u001b[92m▏\u001b[92m▏\u001b[92m▏\u001b[92m▏\u001b[92m▏\u001b[92m▏\u001b[92m▏\u001b[92m▏\u001b[92m▏\u001b[92m▏\u001b[92m▏\u001b[92m▏\u001b[92m▏\u001b[92m▏\u001b[92m▏\u001b[92m▏\u001b[92m▏\u001b[92m▏\u001b[92m▏\u001b[92m▏\u001b[92m▏\u001b[92m▏\u001b[92m▏\u001b[92m▏\u001b[92m▏\u001b[92m▏\u001b[92m▏\u001b[92m▏\u001b[92m▏\u001b[92m▏\u001b[92m▏\u001b[92m▏\u001b[92m▏\u001b[92m▏\u001b[92m▏\u001b[92m▏\u001b[92m▏\u001b[92m▏\u001b[92m▏\u001b[92m▏\u001b[92m▏\u001b[92m▏\u001b[92m▏\u001b[92m▏\u001b[92m▏\u001b[92m▏\u001b[92m▏\u001b[92m▏\u001b[92m▏\u001b[92m▏\u001b[92m▏\u001b[92m▏\u001b[92m▏\u001b[92m▏\u001b[92m▏\u001b[92m▏\u001b[92m▏\u001b[92m▏\u001b[92m▏\u001b[92m▏\u001b[92m▏\u001b[92m▏\u001b[92m▏\u001b[92m▏\u001b[92m▏\u001b[92m▏\u001b[92m▏\u001b[92m▏\u001b[92m▏\u001b[92m▏\u001b[92m▏\u001b[92m▏\u001b[92m▏\u001b[92m▏\u001b[92m▏\u001b[92m▏\u001b[92m▏\u001b[92m▏\u001b[92m▏\u001b[92m▏\u001b[92m▏\u001b[92m▏\u001b[92m▏\u001b[92m▏\u001b[92m▏\u001b[92m▏\u001b[92m▏\u001b[92m▏\u001b[92m▏\u001b[92m▏\u001b[92m▏\u001b[92m▏\u001b[92m▏\u001b[92m▏\u001b[92m▏\u001b[92m▏\u001b[92m▏\u001b[92m▏\u001b[92m▏\u001b[92m▏\u001b[92m▏\u001b[92m▏\u001b[92m▏\u001b[92m▏\u001b[92m▏\u001b[92m▏\u001b[92m▏\u001b[92m▏\u001b[92m▏\u001b[92m▏\u001b[92m▏\u001b[92m▏\u001b[92m▏\u001b[92m▏\u001b[92m▏\u001b[92m▏\u001b[92m▏\u001b[92m▏\u001b[92m▏\u001b[92m▏\u001b[92m▏\u001b[92m▏\u001b[92m▏\u001b[92m▏\u001b[92m▏\u001b[92m▏\u001b[92m▏\u001b[92m▏\u001b[92m▏\u001b[92m▏\u001b[92m▏\u001b[92m▏\u001b[92m▏\u001b[92m▏\u001b[92m▏\u001b[92m▏\u001b[92m▏\u001b[92m▏\u001b[92m▏\u001b[92m▏\u001b[92m▏\u001b[92m▏\u001b[92m▏\u001b[92m▏\u001b[92m▏\u001b[92m▏\u001b[92m▏\u001b[92m▏\u001b[92m▏\u001b[92m▏\u001b[92m▏\u001b[92m▏\u001b[92m▏\u001b[92m▏\u001b[92m▏\u001b[92m▏\u001b[92m▏\u001b[92m▏\u001b[92m▏\u001b[92m▏\u001b[92m▏\u001b[92m▏\u001b[92m▏\u001b[92m▏\u001b[92m▏\u001b[92m▏\u001b[92m▏\u001b[92m▏\u001b[92m▏\u001b[92m▏\u001b[92m▏\u001b[92m▏\u001b[92m▏\u001b[92m▏\u001b[92m▏\u001b[92m▏\u001b[92m▏\u001b[92m▏\u001b[92m▏\u001b[92m▏\u001b[92m▏\u001b[92m▏\u001b[92m▏\u001b[92m▏\u001b[92m▏\u001b[92m▏\u001b[92m▏\u001b[92m▏\u001b[92m▏\u001b[92m▏\u001b[92m▏\u001b[92m▏\u001b[92m▏\u001b[92m▏\u001b[92m▏\u001b[92m▏\u001b[92m▏\u001b[92m▏\u001b[92m▏\u001b[92m▏\u001b[92m▏\u001b[92m▏\u001b[92m▏\u001b[92m▏\u001b[92m▏\u001b[92m▏\u001b[92m▏\u001b[92m▏\u001b[92m▏\u001b[92m▏\u001b[92m▏\u001b[92m▏\u001b[92m▏\u001b[92m▏\u001b[92m▏\u001b[92m▏\u001b[92m▏\u001b[92m▏\u001b[92m▏\u001b[92m▏\u001b[92m▏\u001b[92m▏\u001b[92m▏\u001b[92m▏\u001b[92m▏\u001b[92m▏\u001b[92m▏\u001b[92m▏\u001b[92m▏\u001b[92m▏\u001b[92m▏\u001b[92m▏\u001b[92m▏\u001b[92m▏\u001b[92m▏\u001b[92m▏\u001b[92m▏\u001b[92m▏\u001b[92m▏\u001b[92m▏\u001b[92m▏\u001b[92m▏\u001b[92m▏\u001b[92m▏\u001b[92m▏\u001b[92m▏\u001b[92m▏\u001b[92m▏\u001b[92m▏\u001b[92m▏\u001b[92m▏\u001b[92m▏\u001b[92m▏\u001b[92m▏\u001b[92m▏\u001b[92m▏\u001b[92m▏\u001b[92m▏\u001b[92m▏\u001b[92m▏\u001b[92m▏\u001b[92m▏\u001b[92m▏\u001b[92m▏\u001b[92m▏\u001b[92m▏\u001b[92m▏\u001b[92m▏\u001b[92m▏\u001b[92m▏\u001b[92m▏\u001b[92m▏\u001b[92m▏\u001b[92m▏\u001b[92m▏\u001b[92m▏\u001b[92m▏\u001b[92m▏\u001b[92m▏\u001b[92m▏\u001b[92m▏\u001b[92m▏\u001b[92m▏\u001b[92m▏\u001b[92m▏\u001b[92m▏\u001b[92m▏\u001b[92m▏\u001b[92m▏\u001b[92m▏\u001b[92m▏\u001b[92m▏\u001b[92m▏\u001b[92m▏\u001b[92m▏\u001b[92m▏\u001b[92m▏\u001b[92m▏\u001b[92m▏\u001b[92m▏\u001b[92m▏\u001b[92m▏\u001b[92m▏\u001b[92m▏\u001b[92m▏\u001b[92m▏\u001b[92m▏\u001b[92m▏\u001b[92m▏\u001b[92m▏\u001b[92m▏\u001b[92m▏\u001b[92m▏\u001b[92m▏\u001b[92m▏\u001b[92m▏\u001b[92m▏\u001b[92m▏\u001b[92m▏\u001b[92m▏\u001b[92m▏\u001b[92m▏\u001b[92m▏\u001b[92m▏\u001b[92m▏\u001b[92m▏\u001b[92m▏\u001b[92m▏\u001b[92m▏\u001b[92m▏\u001b[92m▏\u001b[92m▏\u001b[92m▏\u001b[92m▏\u001b[92m▏\u001b[92m▏\u001b[92m▏\u001b[92m▏\u001b[92m▏\u001b[92m▏\u001b[92m▏\u001b[92m▏\u001b[92m▏\u001b[92m▏\u001b[92m▏\u001b[92m▏\u001b[92m▏\u001b[92m▏\u001b[92m▏\u001b[92m▏\u001b[92m▏\u001b[92m▏\u001b[92m▏\u001b[92m▏\u001b[92m▏\u001b[92m▏\u001b[92m▏\u001b[92m▏\u001b[92m▏\u001b[92m▏\u001b[92m▏\u001b[92m▏\u001b[92m▏\u001b[92m▏\u001b[92m▏\u001b[92m▏\u001b[92m▏\u001b[92m▏\u001b[92m▏\u001b[92m▏\u001b[92m▏\u001b[92m▏\u001b[92m▏\u001b[92m▏\u001b[92m▏\u001b[92m▏\u001b[92m▏\u001b[92m▏\u001b[92m▏\u001b[92m▏\u001b[92m▏\u001b[92m▏\u001b[92m▏\u001b[92m▏\u001b[92m▏\u001b[92m▏\u001b[92m▏\u001b[92m▏\u001b[92m▏\u001b[92m▏\u001b[92m▏\u001b[92m▏\u001b[92m▏\u001b[92m▏\u001b[92m▏\u001b[92m▏\u001b[92m▏\u001b[92m▏\u001b[92m▏\u001b[92m▏\u001b[92m▏\u001b[92m▏\u001b[92m▏\u001b[92m▏\u001b[92m▏\u001b[92m▏\u001b[92m▏\u001b[92m▏\u001b[92m▏\u001b[92m▏\u001b[92m▏\u001b[92m▏\u001b[92m▏\u001b[92m▏\u001b[92m▏\u001b[92m▏\u001b[92m▏\u001b[92m▏\u001b[92m▏\u001b[92m▏\u001b[92m▏\u001b[92m▏\u001b[92m▏\u001b[92m▏\u001b[92m▏\u001b[92m▏\u001b[92m▏\u001b[92m▏\u001b[92m▏\u001b[92m▏\u001b[92m▏\u001b[92m▏\u001b[92m▏\u001b[92m▏\u001b[92m▏\u001b[92m▏\u001b[92m▏\u001b[92m▏\u001b[92m▏\u001b[92m▏\u001b[92m▏\u001b[92m▏\u001b[92m▏\u001b[92m▏\u001b[92m▏\u001b[92m▏\u001b[92m▏\u001b[92m▏\u001b[92m▏\u001b[92m▏\u001b[92m▏\u001b[92m▏\u001b[92m▏\u001b[92m▏\u001b[92m▏\u001b[92m▏\u001b[92m▏\u001b[92m▏\u001b[92m▏\u001b[92m▏\u001b[92m▏\u001b[92m▏\u001b[92m▏\u001b[92m▏\u001b[92m▏\u001b[92m▏\u001b[92m▏\u001b[92m▏\u001b[92m▏\u001b[92m▏\u001b[92m▏\u001b[92m▏\u001b[92m▏\u001b[92m▏\u001b[92m▏\u001b[92m▏\u001b[92m▏\u001b[92m▏\u001b[92m▏\u001b[92m▏\u001b[92m▏\u001b[92m▏\u001b[92m▏\u001b[92m▏\u001b[92m▏\u001b[92m▏\u001b[92m▏\u001b[92m▏\u001b[92m▏\u001b[92m▏\u001b[92m▏\u001b[92m▏\u001b[92m▏\u001b[92m▏\u001b[92m▏\u001b[92m▏\u001b[92m▏\u001b[92m▏\u001b[92m▏\u001b[92m▏\u001b[92m▏\u001b[92m▏\u001b[92m▏\u001b[92m▏\u001b[92m▏\u001b[92m▏\u001b[92m▏\u001b[92m▏\u001b[92m▏\u001b[92m▏\u001b[92m▏\u001b[92m▏\u001b[92m▏\u001b[92m▏\u001b[92m▏\u001b[92m▏\u001b[92m▏\u001b[92m▏\u001b[92m▏\u001b[92m▏\u001b[92m▏\u001b[92m▏\u001b[92m▏\u001b[92m▏\u001b[92m▏\u001b[92m▏\u001b[92m▏\u001b[92m▏\u001b[92m▏\u001b[92m▏\u001b[92m▏\u001b[92m▏\u001b[92m▏\u001b[92m▏\u001b[92m▏\u001b[92m▏\u001b[92m▏\u001b[92m▏\u001b[92m▏\u001b[92m▏\u001b[92m▏\u001b[92m▏\u001b[92m▏\u001b[92m▏\u001b[92m▏\u001b[92m▏\u001b[92m▏\u001b[92m▏\u001b[92m▏\u001b[92m▏\u001b[92m▏\u001b[92m▏[1, 1.3887525796890259, 1.3260828256607056, 0.5205000042915344, '00:30']\n"
     ]
    }
   ],
   "source": [
    "with cifar_learner.no_bar():  cifar_learner.fit(2, 0.002)"
   ]
  },
  {
   "cell_type": "code",
   "execution_count": null,
   "metadata": {},
   "outputs": [],
   "source": []
  },
  {
   "cell_type": "code",
   "execution_count": null,
   "metadata": {},
   "outputs": [],
   "source": []
  },
  {
   "cell_type": "code",
   "execution_count": null,
   "metadata": {},
   "outputs": [],
   "source": []
  },
  {
   "cell_type": "code",
   "execution_count": null,
   "metadata": {},
   "outputs": [],
   "source": []
  },
  {
   "cell_type": "code",
   "execution_count": null,
   "metadata": {},
   "outputs": [],
   "source": []
  }
 ],
 "metadata": {
  "jupytext": {
   "split_at_heading": true
  },
  "kernelspec": {
   "display_name": "Python 3",
   "language": "python",
   "name": "python3"
  },
  "language_info": {
   "codemirror_mode": {
    "name": "ipython",
    "version": 3
   },
   "file_extension": ".py",
   "mimetype": "text/x-python",
   "name": "python",
   "nbconvert_exporter": "python",
   "pygments_lexer": "ipython3",
   "version": "3.9.0"
  }
 },
 "nbformat": 4,
 "nbformat_minor": 2
}
